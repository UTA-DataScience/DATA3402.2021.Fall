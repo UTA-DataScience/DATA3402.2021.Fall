{
 "cells": [
  {
   "cell_type": "markdown",
   "metadata": {},
   "source": [
    "# Lecture 5"
   ]
  },
  {
   "cell_type": "markdown",
   "metadata": {},
   "source": [
    "\n",
    "## Random Number Generator"
   ]
  },
  {
   "cell_type": "code",
   "execution_count": 1,
   "metadata": {},
   "outputs": [],
   "source": [
    "# Setup to make historgrams later...\n",
    "%matplotlib inline\n",
    "import matplotlib.pyplot as plt\n",
    "import numpy as np"
   ]
  },
  {
   "cell_type": "code",
   "execution_count": 2,
   "metadata": {},
   "outputs": [],
   "source": [
    "def uniform_generator(seed=123124.):\n",
    "    a=1111111\n",
    "    b=2222222\n",
    "    m=6700417 # This is a large prime number\n",
    "    x=seed\n",
    "    \n",
    "    def random():\n",
    "        nonlocal x\n",
    "        x=(a*x+b)%m\n",
    "        return x/m  # divide by m to set range to 0->1\n",
    "    \n",
    "    return random"
   ]
  },
  {
   "cell_type": "code",
   "execution_count": 3,
   "metadata": {},
   "outputs": [],
   "source": [
    "my_uniform=uniform_generator()"
   ]
  },
  {
   "cell_type": "code",
   "execution_count": 4,
   "metadata": {},
   "outputs": [],
   "source": [
    "random_numbers=list()\n",
    "for _ in range(10):\n",
    "    random_numbers.append(my_uniform())"
   ]
  },
  {
   "cell_type": "code",
   "execution_count": 5,
   "metadata": {},
   "outputs": [
    {
     "data": {
      "text/plain": [
       "[0.6326616686692783,\n",
       " 0.6709910741376246,\n",
       " 0.8950304137787245,\n",
       " 0.46973837598465884,\n",
       " 0.8083329739029675,\n",
       " 0.9906205837636672,\n",
       " 0.7591005156843224,\n",
       " 0.26473680667934546,\n",
       " 0.30966057784164774,\n",
       " 0.6059604946975689]"
      ]
     },
     "execution_count": 5,
     "metadata": {},
     "output_type": "execute_result"
    }
   ],
   "source": [
    "random_numbers"
   ]
  },
  {
   "cell_type": "code",
   "execution_count": 6,
   "metadata": {},
   "outputs": [
    {
     "data": {
      "image/png": "[encoded data removed]",
      "text/plain": [
       "<Figure size 432x288 with 1 Axes>"
      ]
     },
     "metadata": {
      "needs_background": "light"
     },
     "output_type": "display_data"
    }
   ],
   "source": [
    "random_numbers=list()\n",
    "for _ in range(10000):\n",
    "    random_numbers.append(my_uniform())\n",
    "_=plt.hist(random_numbers,bins=10,range=(.5,.7))"
   ]
  },
  {
   "cell_type": "markdown",
   "metadata": {},
   "source": [
    "## Exponential Generator"
   ]
  },
  {
   "cell_type": "code",
   "execution_count": 7,
   "metadata": {},
   "outputs": [],
   "source": [
    "import math\n",
    "\n",
    "def generate_exp(tau,seed=32144):\n",
    "    my_uniform=uniform_generator(seed)\n",
    "    \n",
    "    def generator():\n",
    "        nonlocal my_uniform\n",
    "        nonlocal tau\n",
    "        u = my_uniform()\n",
    "        return -tau*(math.log(1.-u))\n",
    "    \n",
    "    return generator"
   ]
  },
  {
   "cell_type": "code",
   "execution_count": 8,
   "metadata": {},
   "outputs": [],
   "source": [
    "my_exp_generator= generate_exp(10.)"
   ]
  },
  {
   "cell_type": "code",
   "execution_count": 9,
   "metadata": {},
   "outputs": [
    {
     "data": {
      "text/plain": [
       "11.372504436305544"
      ]
     },
     "execution_count": 9,
     "metadata": {},
     "output_type": "execute_result"
    }
   ],
   "source": [
    "my_exp_generator()"
   ]
  },
  {
   "cell_type": "code",
   "execution_count": 10,
   "metadata": {
    "scrolled": true
   },
   "outputs": [
    {
     "data": {
      "image/png": "[encoded data removed]",
      "text/plain": [
       "<Figure size 432x288 with 1 Axes>"
      ]
     },
     "metadata": {
      "needs_background": "light"
     },
     "output_type": "display_data"
    }
   ],
   "source": [
    "random_numbers=list()\n",
    "for _ in range(10000):\n",
    "    random_numbers.append(my_exp_generator())\n",
    "_=plt.hist(random_numbers,bins=25)"
   ]
  },
  {
   "cell_type": "markdown",
   "metadata": {},
   "source": [
    "## Scaling/Shifting\n",
    "\n",
    "In the beginning of Lab 2 you are asked to take random numbers between 0 and 1 and scale and shift them to be between $x_{min}$ and $x_{max}$. The formula is pretty basic. If $x_0$ is between 0 and 1 then $x$ computed as:\n",
    "$$\n",
    "x= (x_{max}-x_{min}) x_0 + x_{min}\n",
    "$$\n",
    "will be between $x_{min}$ and $x_{max}$. \n",
    "\n",
    "In your solution, you'll most likely generate $x_0$ one by one, compute $x$, and store $x$ into a list to be returned from your function.\n"
   ]
  },
  {
   "cell_type": "markdown",
   "metadata": {},
   "source": [
    "## Mean/Variance\n",
    "\n",
    "Also for lab 4, remember the equations for mean/variance. If you have a data sample ${x_1, x_2, ..., x_N}$ the mean is:\n",
    "\n",
    "$$ \n",
    "\\bar{x} = \\frac{1}{N}\\sum_{i=1}^{N} x_i\n",
    "$$\n",
    "\n",
    "and the variance is:\n",
    "\n",
    "$$\n",
    "<x^2> = \\frac{1}{N-1} \\sum_{i=1}^{N} (x_i - \\bar{x})^2\n",
    "$$\n"
   ]
  },
  {
   "cell_type": "markdown",
   "metadata": {},
   "source": [
    "## Min, Max, ArgMin, ArgMax\n",
    "\n",
    "Consider a list of random numbers:"
   ]
  },
  {
   "cell_type": "code",
   "execution_count": 11,
   "metadata": {},
   "outputs": [],
   "source": [
    "import random\n",
    "data = [random.random() for _ in range(100)]"
   ]
  },
  {
   "cell_type": "code",
   "execution_count": 12,
   "metadata": {
    "scrolled": true
   },
   "outputs": [
    {
     "data": {
      "text/plain": [
       "[0.8474003000327954,\n",
       " 0.9695587358818826,\n",
       " 0.4421025212796158,\n",
       " 0.4317038477030626,\n",
       " 0.025121731214879595,\n",
       " 0.007546223715245826,\n",
       " 0.2507473364631826,\n",
       " 0.9971833414405834,\n",
       " 0.0042538372564853155,\n",
       " 0.11551426787709673,\n",
       " 0.2586835150227549,\n",
       " 0.7783145595346698,\n",
       " 0.6600943665126316,\n",
       " 0.3129545561974001,\n",
       " 0.32552687334083696,\n",
       " 0.9432838143640245,\n",
       " 0.21334946147560374,\n",
       " 0.8135371585148268,\n",
       " 0.07554102053685774,\n",
       " 0.6031411977046053,\n",
       " 0.9386560271488669,\n",
       " 0.12028996079194598,\n",
       " 0.5101460101294469,\n",
       " 0.9929634383490196,\n",
       " 0.2115011487728684,\n",
       " 0.43214823401068236,\n",
       " 0.5169573228340141,\n",
       " 0.7889363889809816,\n",
       " 0.5821261769779299,\n",
       " 0.15537193124746607,\n",
       " 0.6973381834975874,\n",
       " 0.7763260338456661,\n",
       " 0.3876580785897976,\n",
       " 0.42022311414095004,\n",
       " 0.5906122459726031,\n",
       " 0.7438618023673735,\n",
       " 0.23103498600974004,\n",
       " 0.37870931937670926,\n",
       " 0.32352663048401786,\n",
       " 0.45955061936506125,\n",
       " 0.18999927456055843,\n",
       " 0.648020798226783,\n",
       " 0.5276347187229594,\n",
       " 0.11278254055575443,\n",
       " 0.8220810587406475,\n",
       " 0.3861251018738421,\n",
       " 0.8754881847102224,\n",
       " 0.39049477320145953,\n",
       " 0.33431318057778325,\n",
       " 0.0804768271098869,\n",
       " 0.7047150593739008,\n",
       " 0.005318807139743531,\n",
       " 0.5247964604647819,\n",
       " 0.5762470425560045,\n",
       " 0.12422156434861198,\n",
       " 0.1552809315048438,\n",
       " 0.7320128348049042,\n",
       " 0.6392679057174769,\n",
       " 0.9137826960861082,\n",
       " 0.9321033860783365,\n",
       " 0.9181774231433484,\n",
       " 0.23862027176424405,\n",
       " 0.6098775701502644,\n",
       " 0.5113203305315032,\n",
       " 0.8333431279543166,\n",
       " 0.9653361261615626,\n",
       " 0.42255736170939506,\n",
       " 0.7890244534046817,\n",
       " 0.7550367548467217,\n",
       " 0.1406514060785301,\n",
       " 0.5844750397859813,\n",
       " 0.79241817131445,\n",
       " 0.315371413625533,\n",
       " 0.6686098456440659,\n",
       " 0.16852530135149468,\n",
       " 0.9195647502837735,\n",
       " 0.6476852019368342,\n",
       " 0.9293625252566667,\n",
       " 0.01876876967110841,\n",
       " 0.7465627223128993,\n",
       " 0.2474350082812512,\n",
       " 0.1233772541804451,\n",
       " 0.9026497985864227,\n",
       " 0.5849251063404899,\n",
       " 0.09992351138997757,\n",
       " 0.1935537985455288,\n",
       " 0.626918689713318,\n",
       " 0.6077238140045603,\n",
       " 0.292377261593719,\n",
       " 0.4929484268182408,\n",
       " 0.27297117111909497,\n",
       " 0.2705125185744368,\n",
       " 0.14323352317813043,\n",
       " 0.32726607779090566,\n",
       " 0.6344903823224505,\n",
       " 0.02860035662903837,\n",
       " 0.619013575562946,\n",
       " 0.07550907080526925,\n",
       " 0.689891261192116,\n",
       " 0.7080422676840556]"
      ]
     },
     "execution_count": 12,
     "metadata": {},
     "output_type": "execute_result"
    }
   ],
   "source": [
    "data"
   ]
  },
  {
   "cell_type": "markdown",
   "metadata": {},
   "source": [
    "You find the largest and smallest numbers in the list:"
   ]
  },
  {
   "cell_type": "code",
   "execution_count": 13,
   "metadata": {},
   "outputs": [
    {
     "data": {
      "text/plain": [
       "(0.9971833414405834, 0.0042538372564853155)"
      ]
     },
     "execution_count": 13,
     "metadata": {},
     "output_type": "execute_result"
    }
   ],
   "source": [
    "max(data),min(data)"
   ]
  },
  {
   "cell_type": "markdown",
   "metadata": {},
   "source": [
    "It is convenient that `max` and `min` are available in python, but let's think about how we would implement one of these functions:"
   ]
  },
  {
   "cell_type": "code",
   "execution_count": 14,
   "metadata": {},
   "outputs": [],
   "source": [
    "def find_max(d):\n",
    "    a_max=d[0]\n",
    "    for e in d:\n",
    "        if e>a_max:\n",
    "            a_max=e\n",
    "    return a_max"
   ]
  },
  {
   "cell_type": "code",
   "execution_count": 15,
   "metadata": {},
   "outputs": [
    {
     "data": {
      "text/plain": [
       "0.9971833414405834"
      ]
     },
     "execution_count": 15,
     "metadata": {},
     "output_type": "execute_result"
    }
   ],
   "source": [
    "find_max(data)"
   ]
  },
  {
   "cell_type": "markdown",
   "metadata": {},
   "source": [
    "While `max` gives us the largest value, we may instead be interested to know which element in the list is the largest (i.e. what is the index of the largest value)... this is where `argmax` comes in:"
   ]
  },
  {
   "cell_type": "code",
   "execution_count": 16,
   "metadata": {},
   "outputs": [],
   "source": [
    "def find_argmax(d):\n",
    "    a_max=d[0]\n",
    "    i_max=0\n",
    "    for i,e in enumerate(d):\n",
    "        if e>a_max:\n",
    "            a_max=e\n",
    "            i_max=i\n",
    "    return i_max"
   ]
  },
  {
   "cell_type": "code",
   "execution_count": 17,
   "metadata": {},
   "outputs": [
    {
     "data": {
      "text/plain": [
       "7"
      ]
     },
     "execution_count": 17,
     "metadata": {},
     "output_type": "execute_result"
    }
   ],
   "source": [
    "find_argmax(data)"
   ]
  },
  {
   "cell_type": "markdown",
   "metadata": {},
   "source": [
    "## Numerical Manipulation of Mathematical Functions \n",
    "\n",
    "Recall that we can easily make a list of sequential intergers using `range`."
   ]
  },
  {
   "cell_type": "code",
   "execution_count": 18,
   "metadata": {},
   "outputs": [
    {
     "data": {
      "text/plain": [
       "[5, 8, 11, 14, 17]"
      ]
     },
     "execution_count": 18,
     "metadata": {},
     "output_type": "execute_result"
    }
   ],
   "source": [
    "list(range(5,20,3))"
   ]
  },
  {
   "cell_type": "markdown",
   "metadata": {},
   "source": [
    "What if we wanted to do something similar but with non-intergers, for example in step size of 1/2:"
   ]
  },
  {
   "cell_type": "code",
   "execution_count": 19,
   "metadata": {},
   "outputs": [
    {
     "ename": "TypeError",
     "evalue": "'float' object cannot be interpreted as an integer",
     "output_type": "error",
     "traceback": [
      "\u001b[0;31m---------------------------------------------------------------------------\u001b[0m",
      "\u001b[0;31mTypeError\u001b[0m                                 Traceback (most recent call last)",
      "\u001b[0;32m<ipython-input-19-3e0632a49894>\u001b[0m in \u001b[0;36m<module>\u001b[0;34m\u001b[0m\n\u001b[0;32m----> 1\u001b[0;31m \u001b[0mlist\u001b[0m\u001b[0;34m(\u001b[0m\u001b[0mrange\u001b[0m\u001b[0;34m(\u001b[0m\u001b[0;36m5.\u001b[0m\u001b[0;34m,\u001b[0m\u001b[0;36m20.\u001b[0m\u001b[0;34m,\u001b[0m\u001b[0;36m.5\u001b[0m\u001b[0;34m)\u001b[0m\u001b[0;34m)\u001b[0m\u001b[0;34m\u001b[0m\u001b[0;34m\u001b[0m\u001b[0m\n\u001b[0m",
      "\u001b[0;31mTypeError\u001b[0m: 'float' object cannot be interpreted as an integer"
     ]
    }
   ],
   "source": [
    "list(range(5.,20.,.5))"
   ]
  },
  {
   "cell_type": "markdown",
   "metadata": {},
   "source": [
    "Let's implement what we need:"
   ]
  },
  {
   "cell_type": "code",
   "execution_count": 20,
   "metadata": {},
   "outputs": [],
   "source": [
    "def arange(x_min,x_max,step_size=1.):\n",
    "    if step_size >= 0 and x_max<x_min:\n",
    "        return list()\n",
    "    \n",
    "    if step_size < 0 and x_max>x_min:\n",
    "        return list()\n",
    "    \n",
    "    x=x_min\n",
    "    out = list()\n",
    "    while x<x_max:\n",
    "        out.append(x)\n",
    "        x+=step_size\n",
    "    return out"
   ]
  },
  {
   "cell_type": "code",
   "execution_count": 21,
   "metadata": {
    "scrolled": true
   },
   "outputs": [
    {
     "data": {
      "text/plain": [
       "[5.0,\n",
       " 5.5,\n",
       " 6.0,\n",
       " 6.5,\n",
       " 7.0,\n",
       " 7.5,\n",
       " 8.0,\n",
       " 8.5,\n",
       " 9.0,\n",
       " 9.5,\n",
       " 10.0,\n",
       " 10.5,\n",
       " 11.0,\n",
       " 11.5,\n",
       " 12.0,\n",
       " 12.5,\n",
       " 13.0,\n",
       " 13.5,\n",
       " 14.0,\n",
       " 14.5,\n",
       " 15.0,\n",
       " 15.5,\n",
       " 16.0,\n",
       " 16.5,\n",
       " 17.0,\n",
       " 17.5,\n",
       " 18.0,\n",
       " 18.5,\n",
       " 19.0,\n",
       " 19.5]"
      ]
     },
     "execution_count": 21,
     "metadata": {},
     "output_type": "execute_result"
    }
   ],
   "source": [
    "arange(5.,20.,.5)"
   ]
  },
  {
   "cell_type": "markdown",
   "metadata": {},
   "source": [
    "An alternative similar function is:"
   ]
  },
  {
   "cell_type": "code",
   "execution_count": 22,
   "metadata": {},
   "outputs": [],
   "source": [
    "def linspace(x_min,x_max,steps=10):\n",
    "    step_size=(x_max-x_min)/steps\n",
    "    x=x_min\n",
    "    out = list()\n",
    "    for i in range(steps):\n",
    "        out.append(x)\n",
    "        x+=step_size\n",
    "    return out"
   ]
  },
  {
   "cell_type": "code",
   "execution_count": 23,
   "metadata": {},
   "outputs": [
    {
     "data": {
      "text/plain": [
       "[5.0,\n",
       " 5.75,\n",
       " 6.5,\n",
       " 7.25,\n",
       " 8.0,\n",
       " 8.75,\n",
       " 9.5,\n",
       " 10.25,\n",
       " 11.0,\n",
       " 11.75,\n",
       " 12.5,\n",
       " 13.25,\n",
       " 14.0,\n",
       " 14.75,\n",
       " 15.5,\n",
       " 16.25,\n",
       " 17.0,\n",
       " 17.75,\n",
       " 18.5,\n",
       " 19.25]"
      ]
     },
     "execution_count": 23,
     "metadata": {},
     "output_type": "execute_result"
    }
   ],
   "source": [
    "linspace(5.,20.,20)"
   ]
  },
  {
   "cell_type": "markdown",
   "metadata": {},
   "source": [
    "Now lets use what we wrote to investigate a mathematical function:"
   ]
  },
  {
   "cell_type": "code",
   "execution_count": 24,
   "metadata": {},
   "outputs": [],
   "source": [
    "def a_function(x):\n",
    "    return (1+x)**2"
   ]
  },
  {
   "cell_type": "code",
   "execution_count": 25,
   "metadata": {},
   "outputs": [],
   "source": [
    "x_vals = arange(-5.,5.,0.1)"
   ]
  },
  {
   "cell_type": "markdown",
   "metadata": {},
   "source": [
    "3 ways to do the same thing:"
   ]
  },
  {
   "cell_type": "code",
   "execution_count": 26,
   "metadata": {},
   "outputs": [],
   "source": [
    "y_vals = [a_function(x) for x in x_vals]"
   ]
  },
  {
   "cell_type": "code",
   "execution_count": 27,
   "metadata": {},
   "outputs": [],
   "source": [
    "y_vals = list(map(a_function,x_vals))"
   ]
  },
  {
   "cell_type": "code",
   "execution_count": 28,
   "metadata": {},
   "outputs": [],
   "source": [
    "y_vals = list()\n",
    "for x in x_vals:\n",
    "    y_vals.append(a_function(x))"
   ]
  },
  {
   "cell_type": "code",
   "execution_count": 29,
   "metadata": {},
   "outputs": [
    {
     "data": {
      "text/plain": [
       "[<matplotlib.lines.Line2D at 0x7f9af069bca0>]"
      ]
     },
     "execution_count": 29,
     "metadata": {},
     "output_type": "execute_result"
    },
    {
     "data": {
      "image/png": "[encoded data removed]",
      "text/plain": [
       "<Figure size 432x288 with 1 Axes>"
      ]
     },
     "metadata": {
      "needs_background": "light"
     },
     "output_type": "display_data"
    }
   ],
   "source": [
    "plt.plot(x_vals,y_vals)"
   ]
  },
  {
   "cell_type": "code",
   "execution_count": 30,
   "metadata": {
    "scrolled": true
   },
   "outputs": [
    {
     "data": {
      "text/plain": [
       "[(-5.0, 16.0),\n",
       " (-4.9, 15.210000000000003),\n",
       " (-4.800000000000001, 14.440000000000005),\n",
       " (-4.700000000000001, 13.690000000000008),\n",
       " (-4.600000000000001, 12.96000000000001),\n",
       " (-4.500000000000002, 12.250000000000012),\n",
       " (-4.400000000000002, 11.560000000000015),\n",
       " (-4.3000000000000025, 10.890000000000017),\n",
       " (-4.200000000000003, 10.240000000000018),\n",
       " (-4.100000000000003, 9.610000000000019),\n",
       " (-4.0000000000000036, 9.000000000000021),\n",
       " (-3.9000000000000035, 8.41000000000002),\n",
       " (-3.8000000000000034, 7.8400000000000185),\n",
       " (-3.7000000000000033, 7.290000000000018),\n",
       " (-3.600000000000003, 6.760000000000017),\n",
       " (-3.500000000000003, 6.250000000000015),\n",
       " (-3.400000000000003, 5.760000000000015),\n",
       " (-3.300000000000003, 5.290000000000013),\n",
       " (-3.200000000000003, 4.840000000000012),\n",
       " (-3.1000000000000028, 4.410000000000012),\n",
       " (-3.0000000000000027, 4.000000000000011),\n",
       " (-2.9000000000000026, 3.6100000000000096),\n",
       " (-2.8000000000000025, 3.240000000000009),\n",
       " (-2.7000000000000024, 2.890000000000008),\n",
       " (-2.6000000000000023, 2.5600000000000076),\n",
       " (-2.500000000000002, 2.2500000000000067),\n",
       " (-2.400000000000002, 1.960000000000006),\n",
       " (-2.300000000000002, 1.6900000000000053),\n",
       " (-2.200000000000002, 1.4400000000000046),\n",
       " (-2.100000000000002, 1.2100000000000042),\n",
       " (-2.0000000000000018, 1.0000000000000036),\n",
       " (-1.9000000000000017, 0.810000000000003),\n",
       " (-1.8000000000000016, 0.6400000000000026),\n",
       " (-1.7000000000000015, 0.4900000000000021),\n",
       " (-1.6000000000000014, 0.3600000000000017),\n",
       " (-1.5000000000000013, 0.25000000000000133),\n",
       " (-1.4000000000000012, 0.160000000000001),\n",
       " (-1.3000000000000012, 0.09000000000000069),\n",
       " (-1.200000000000001, 0.040000000000000424),\n",
       " (-1.100000000000001, 0.010000000000000196),\n",
       " (-1.0000000000000009, 7.888609052210118e-31),\n",
       " (-0.9000000000000009, 0.009999999999999818),\n",
       " (-0.8000000000000009, 0.039999999999999626),\n",
       " (-0.700000000000001, 0.08999999999999943),\n",
       " (-0.600000000000001, 0.15999999999999923),\n",
       " (-0.500000000000001, 0.249999999999999),\n",
       " (-0.400000000000001, 0.35999999999999877),\n",
       " (-0.30000000000000104, 0.48999999999999855),\n",
       " (-0.20000000000000104, 0.6399999999999983),\n",
       " (-0.10000000000000103, 0.8099999999999983),\n",
       " (-1.0269562977782698e-15, 0.999999999999998),\n",
       " (0.09999999999999898, 1.2099999999999977),\n",
       " (0.19999999999999898, 1.4399999999999977),\n",
       " (0.299999999999999, 1.6899999999999973),\n",
       " (0.399999999999999, 1.9599999999999973),\n",
       " (0.499999999999999, 2.2499999999999973),\n",
       " (0.599999999999999, 2.559999999999997),\n",
       " (0.699999999999999, 2.889999999999996),\n",
       " (0.7999999999999989, 3.239999999999996),\n",
       " (0.8999999999999989, 3.6099999999999963),\n",
       " (0.9999999999999989, 3.9999999999999956),\n",
       " (1.099999999999999, 4.409999999999995),\n",
       " (1.199999999999999, 4.839999999999997),\n",
       " (1.2999999999999992, 5.289999999999995),\n",
       " (1.3999999999999992, 5.759999999999997),\n",
       " (1.4999999999999993, 6.249999999999996),\n",
       " (1.5999999999999994, 6.759999999999998),\n",
       " (1.6999999999999995, 7.2899999999999965),\n",
       " (1.7999999999999996, 7.839999999999999),\n",
       " (1.8999999999999997, 8.409999999999997),\n",
       " (1.9999999999999998, 9.0),\n",
       " (2.0999999999999996, 9.609999999999998),\n",
       " (2.1999999999999997, 10.239999999999998),\n",
       " (2.3, 10.889999999999999),\n",
       " (2.4, 11.559999999999999),\n",
       " (2.5, 12.25),\n",
       " (2.6, 12.96),\n",
       " (2.7, 13.690000000000001),\n",
       " (2.8000000000000003, 14.440000000000001),\n",
       " (2.9000000000000004, 15.210000000000003),\n",
       " (3.0000000000000004, 16.0),\n",
       " (3.1000000000000005, 16.810000000000006),\n",
       " (3.2000000000000006, 17.640000000000008),\n",
       " (3.3000000000000007, 18.490000000000006),\n",
       " (3.400000000000001, 19.360000000000003),\n",
       " (3.500000000000001, 20.250000000000007),\n",
       " (3.600000000000001, 21.160000000000014),\n",
       " (3.700000000000001, 22.09000000000001),\n",
       " (3.800000000000001, 23.040000000000006),\n",
       " (3.9000000000000012, 24.010000000000012),\n",
       " (4.000000000000001, 25.00000000000001),\n",
       " (4.1000000000000005, 26.010000000000005),\n",
       " (4.2, 27.040000000000003),\n",
       " (4.3, 28.09),\n",
       " (4.3999999999999995, 29.159999999999993),\n",
       " (4.499999999999999, 30.24999999999999),\n",
       " (4.599999999999999, 31.359999999999985),\n",
       " (4.699999999999998, 32.48999999999998),\n",
       " (4.799999999999998, 33.63999999999998),\n",
       " (4.899999999999998, 34.809999999999974),\n",
       " (4.999999999999997, 35.99999999999997)]"
      ]
     },
     "execution_count": 30,
     "metadata": {},
     "output_type": "execute_result"
    }
   ],
   "source": [
    "list(zip(x_vals,y_vals))"
   ]
  },
  {
   "cell_type": "markdown",
   "metadata": {},
   "source": [
    "How about a python function that finds the minumum of a mathematical function:"
   ]
  },
  {
   "cell_type": "markdown",
   "metadata": {},
   "source": [
    "## Functional Programming\n",
    "\n",
    "In lab 3 you built a tic-tac-toe game by implementing a series of functions that performed various tasks, which you then combined in various ways to implement the game logic. What you wrote was a *structured program*, which consist of sequences of instructions, utilizing control flow (if/then/else), repetition (while and for), block structures, and function calls. \n",
    "\n",
    "*Functional Programming* is another style of programming that is not well suited to writing games, but is well suited to manipulating data. A functional program performs computation by evaluating mathematical functions, where the output only depend on the input. Data passes through as inputs/outputs of functions, but is otherwise never changed. This paradigm is often used in data science because manipulation of data can othen be viewed as composition of functions:\n",
    "\n",
    "$$\n",
    "D_{result} = f_n(f_{n-1}(...(f_0(D_{input}))))\n",
    "$$\n"
   ]
  },
  {
   "cell_type": "markdown",
   "metadata": {},
   "source": [
    "As an example, lets think about how a python function that finds the minumum of a mathematical function would look like:"
   ]
  },
  {
   "cell_type": "code",
   "execution_count": 31,
   "metadata": {},
   "outputs": [],
   "source": [
    "def a_function(x):\n",
    "    return (1+x)**2\n",
    "\n",
    "def find_min_0(f,x_min,x_max,steps=10):\n",
    "    step_size=(x_max-x_min)/steps\n",
    "    x=x_min\n",
    "    y_min=f(x_min)\n",
    "    x_min_val=x_min\n",
    "\n",
    "    for i in range(steps):\n",
    "        y=f(x)\n",
    "        if y<y_min:\n",
    "            x_min_val=x\n",
    "            y_min=y\n",
    "        x+=step_size\n",
    "    \n",
    "    return x_min_val"
   ]
  },
  {
   "cell_type": "code",
   "execution_count": 32,
   "metadata": {},
   "outputs": [
    {
     "data": {
      "text/plain": [
       "-1.000000000000002"
      ]
     },
     "execution_count": 32,
     "metadata": {},
     "output_type": "execute_result"
    }
   ],
   "source": [
    "find_min_0(a_function,-10,10,100)"
   ]
  },
  {
   "cell_type": "markdown",
   "metadata": {},
   "source": [
    "Lets write the same thing in a more functional way by realizing that we can perform the same task as a set of composition of functions:"
   ]
  },
  {
   "cell_type": "code",
   "execution_count": 33,
   "metadata": {},
   "outputs": [],
   "source": [
    "def linspace(x_min,x_max,steps=10):\n",
    "    x=x_min\n",
    "    step_size=(x_max-x_min)/steps\n",
    "    out=list()\n",
    "    while x<x_max:\n",
    "        out.append(x)\n",
    "        x+=step_size\n",
    "    return out\n",
    "\n",
    "def arg_min(lst):\n",
    "    min_val=lst[0]\n",
    "    min_index=0\n",
    "    for i,val in enumerate(lst):\n",
    "        if val<min_val:\n",
    "            min_val=val\n",
    "            min_index=i\n",
    "            \n",
    "    return min_index\n"
   ]
  },
  {
   "cell_type": "markdown",
   "metadata": {},
   "source": [
    "Note that `find_min` can be as a single evaluation:"
   ]
  },
  {
   "cell_type": "code",
   "execution_count": 34,
   "metadata": {},
   "outputs": [],
   "source": [
    "def find_min(f,x_min,x_max,steps=100):\n",
    "    return linspace(x_min,x_max,steps)[arg_min(list(map(f,linspace(x_min,x_max,steps))))]\n",
    "\n",
    "\n",
    "# Same thing, just not in one line:\n",
    "def find_min_0(f,x_min,x_max,steps=100):\n",
    "    x_vals=linspace(x_min,x_max,steps)\n",
    "    y_vals=list(map(f,x_vals))\n",
    "    index=arg_min(y_vals)\n",
    "    return x_vals[index]\n"
   ]
  },
  {
   "cell_type": "code",
   "execution_count": 35,
   "metadata": {},
   "outputs": [
    {
     "data": {
      "text/plain": [
       "-1.000000000000002"
      ]
     },
     "execution_count": 35,
     "metadata": {},
     "output_type": "execute_result"
    }
   ],
   "source": [
    "find_min_0(a_function,-10.,10.,100)"
   ]
  },
  {
   "cell_type": "markdown",
   "metadata": {},
   "source": [
    "We could have implemented `a_range` and `arg_min` the same way, but instead of while loops use recursion:"
   ]
  },
  {
   "cell_type": "code",
   "execution_count": 36,
   "metadata": {},
   "outputs": [],
   "source": [
    "def a_range(x_min,x_max,steps=10):\n",
    "    if steps>1:\n",
    "        return [x_min] + a_range(x_min+((x_max-x_min)/steps),x_max,steps-1)\n",
    "    else:\n",
    "        return [x_min]\n",
    "        "
   ]
  },
  {
   "cell_type": "markdown",
   "metadata": {},
   "source": [
    "We are not going to write functions this way, but the idea is to get familiar with seeing data manipulations as a composition of functions."
   ]
  },
  {
   "cell_type": "markdown",
   "metadata": {},
   "source": [
    "# Histograms"
   ]
  },
  {
   "cell_type": "code",
   "execution_count": 37,
   "metadata": {},
   "outputs": [],
   "source": [
    "# Quickly make a list of 100 numbers between 5 and 15.\n",
    "data_0=(10*np.random.random(100)+5.).tolist()"
   ]
  },
  {
   "cell_type": "code",
   "execution_count": 38,
   "metadata": {},
   "outputs": [],
   "source": [
    "# Or a normal distribution at 10 with sigma 2.5\n",
    "data_1=np.random.normal(10,2.5,100)"
   ]
  },
  {
   "cell_type": "code",
   "execution_count": 39,
   "metadata": {},
   "outputs": [
    {
     "data": {
      "text/plain": [
       "(array([100]), array([ 5.00675013, 14.74540061]))"
      ]
     },
     "execution_count": 39,
     "metadata": {},
     "output_type": "execute_result"
    }
   ],
   "source": [
    "np.histogram(data_0,bins=1)"
   ]
  },
  {
   "cell_type": "code",
   "execution_count": 40,
   "metadata": {},
   "outputs": [
    {
     "name": "stdout",
     "output_type": "stream",
     "text": [
      "5.006750127123837 14.745400606213185\n"
     ]
    }
   ],
   "source": [
    "print(min(data_0),max(data_0))"
   ]
  },
  {
   "cell_type": "code",
   "execution_count": 41,
   "metadata": {},
   "outputs": [
    {
     "data": {
      "text/plain": [
       "(array([49, 51]), array([ 5.00675013,  9.87607537, 14.74540061]))"
      ]
     },
     "execution_count": 41,
     "metadata": {},
     "output_type": "execute_result"
    }
   ],
   "source": [
    "np.histogram(data_0,bins=2)"
   ]
  },
  {
   "cell_type": "code",
   "execution_count": 42,
   "metadata": {},
   "outputs": [
    {
     "data": {
      "text/plain": [
       "(array([32, 32, 36]),\n",
       " array([ 5.00675013,  8.25296695, 11.49918378, 14.74540061]))"
      ]
     },
     "execution_count": 42,
     "metadata": {},
     "output_type": "execute_result"
    }
   ],
   "source": [
    "np.histogram(data_0,bins=3)"
   ]
  },
  {
   "cell_type": "code",
   "execution_count": 43,
   "metadata": {},
   "outputs": [
    {
     "data": {
      "text/plain": [
       "(array([32., 32., 36.]),\n",
       " array([ 5.00675013,  8.25296695, 11.49918378, 14.74540061]),\n",
       " <a list of 3 Patch objects>)"
      ]
     },
     "execution_count": 43,
     "metadata": {},
     "output_type": "execute_result"
    },
    {
     "data": {
      "image/png": "[encoded data removed]",
      "text/plain": [
       "<Figure size 432x288 with 1 Axes>"
      ]
     },
     "metadata": {
      "needs_background": "light"
     },
     "output_type": "display_data"
    }
   ],
   "source": [
    "plt.hist(data_0,bins=3)"
   ]
  },
  {
   "cell_type": "code",
   "execution_count": 44,
   "metadata": {},
   "outputs": [
    {
     "data": {
      "text/plain": [
       "(array([ 1.,  1.,  5., 15., 22., 18., 15., 15.,  5.,  3.]),\n",
       " array([ 2.53140151,  3.92409513,  5.31678875,  6.70948237,  8.10217598,\n",
       "         9.4948696 , 10.88756322, 12.28025684, 13.67295046, 15.06564407,\n",
       "        16.45833769]),\n",
       " <a list of 10 Patch objects>)"
      ]
     },
     "execution_count": 44,
     "metadata": {},
     "output_type": "execute_result"
    },
    {
     "data": {
      "image/png": "[encoded data removed]",
      "text/plain": [
       "<Figure size 432x288 with 1 Axes>"
      ]
     },
     "metadata": {
      "needs_background": "light"
     },
     "output_type": "display_data"
    }
   ],
   "source": [
    "plt.hist(data_1)"
   ]
  },
  {
   "cell_type": "code",
   "execution_count": 45,
   "metadata": {},
   "outputs": [
    {
     "data": {
      "text/plain": [
       "10.095603370475947"
      ]
     },
     "execution_count": 45,
     "metadata": {},
     "output_type": "execute_result"
    }
   ],
   "source": [
    "np.mean(data_1)"
   ]
  },
  {
   "cell_type": "code",
   "execution_count": 46,
   "metadata": {},
   "outputs": [
    {
     "data": {
      "text/plain": [
       "2.588392590895287"
      ]
     },
     "execution_count": 46,
     "metadata": {},
     "output_type": "execute_result"
    }
   ],
   "source": [
    "np.std(data_1)"
   ]
  },
  {
   "cell_type": "markdown",
   "metadata": {},
   "source": [
    "## Histogram\n",
    "\n",
    "In Lab 4 you are asked to write a histogram function:\n",
    "\n",
    "* User inputs a list of values `x` and optionally `n_bins` which defaults to 10.\n",
    "* If not supplied, find the minimum and maximum (`x_min`,`x_max`) of the values in x.\n",
    "* Determine the bin size (`bin_size`) by dividing the range of the function by the number of bins.\n",
    "* Create an empty list of zeros of size `n_bins`, call it `hist`.\n",
    "* Loop over the values in `x`\n",
    "    * Loop over the values in `hist` with index `i`:\n",
    "        * If x is between `x_min+i*bin_size` and `x_min+(i+1)*bin_size`, increment `hist[i].` \n",
    "        * For efficiency, try to use continue to goto the next bin and data point.\n",
    "* Return `hist` and the list corresponding of the bin edges (i.e. of `x_min+i*bin_size`).    \n",
    "\n",
    "\n",
    "\n"
   ]
  },
  {
   "cell_type": "markdown",
   "metadata": {},
   "source": [
    "## Alternative\n",
    "* User inputs a list of values `x` and optionally `n_bins` which defaults to 10.\n",
    "* If not supplied, find the minimum and maximum (`x_min`,`x_max`) of the values in x.\n",
    "* Create an empty list of zeros of size `n_bins`, call it `hist`.\n",
    "* Create a list of `bin_edges` using `arange`.\n",
    "* Append the `x_max` to bin_edges.\n",
    "* Loop over the values in `x`\n",
    "    * Loop over the values in `hist` with index `i`:\n",
    "        * If x is between `bin_edge[i]` and `bin_edge[i+1]`, increment `hist[i].` \n",
    "        * For efficiency, try to use continue to goto the next bin and data point.\n",
    "* Return `hist` and the list corresponding of the bin edges (i.e. of `x_min+i*bin_size`).    \n",
    "\n"
   ]
  },
  {
   "cell_type": "code",
   "execution_count": 50,
   "metadata": {},
   "outputs": [],
   "source": [
    "def histogram(data, n_bins=10,x_min=None, x_max=None):\n",
    "    if x_min==None:\n",
    "        x_min=min(data)\n",
    "    if x_max==None:\n",
    "        x_max=max(data)\n",
    "        \n",
    "    bin_edges = linspace(x_min,x_max,n_bins)\n",
    "    bin_edges.append(x_max)\n",
    "\n",
    "    hist=[0]*n_bins\n",
    "    \n",
    "    for d in data:\n",
    "        for i,(low_edge,high_edge) in enumerate(zip(bin_edges[:-1],bin_edges[1:])):\n",
    "            if d>=low_edge and d<high_edge:\n",
    "                hist[i]+=1\n",
    "                break\n",
    "                \n",
    "    return hist,bin_edges"
   ]
  },
  {
   "cell_type": "code",
   "execution_count": 51,
   "metadata": {},
   "outputs": [
    {
     "data": {
      "text/plain": [
       "([0, 0, 0, 0, 0, 8, 13, 7, 11, 10],\n",
       " [0, 1.0, 2.0, 3.0, 4.0, 5.0, 6.0, 7.0, 8.0, 9.0, 10])"
      ]
     },
     "execution_count": 51,
     "metadata": {},
     "output_type": "execute_result"
    }
   ],
   "source": [
    "histogram(data_0,10,0,10)"
   ]
  },
  {
   "cell_type": "code",
   "execution_count": 52,
   "metadata": {},
   "outputs": [
    {
     "data": {
      "text/plain": [
       "(array([ 0,  0,  0,  0,  0,  8, 13,  7, 11, 10]),\n",
       " array([ 0.,  1.,  2.,  3.,  4.,  5.,  6.,  7.,  8.,  9., 10.]))"
      ]
     },
     "execution_count": 52,
     "metadata": {},
     "output_type": "execute_result"
    }
   ],
   "source": [
    "np.histogram(data_0,range=(0,10),bins=10)"
   ]
  },
  {
   "cell_type": "markdown",
   "metadata": {},
   "source": [
    "## Accept/Reject\n",
    "\n",
    "Inputs: \n",
    "\n",
    "* function `f`\n",
    "* number of points to generate `n`\n",
    "* range to generate within `x_min`, `x_max`\n",
    "* optional `n_steps`, defaulting to 100, used for finding min/max.\n",
    " \n",
    "Strategy:\n",
    "\n",
    "1. Find `y_min` and `y_max` of function `f` over input range.\n",
    "    1. Create/use new function `find_min_max` analgous to `find_min` above. \n",
    "1. Create output list to hold values.\n",
    "1. Use `while` statement to loop until length of output list is `n`.\n",
    "    1. Draw 2 random numbers from uniform distribution:\n",
    "        1. `x` in range [`x_min`,`x_max`] \n",
    "        1. `y` in range [`y_min`,`y_max`] \n",
    "    1. if `y` < `f(x)`, append `x` to output list.\n",
    "1. Return output list.\n",
    "\n",
    "\n",
    "### Computing Integral\n",
    "\n",
    "The integral should be `(x_max - x_min)*(y_max - y_min)` times the fraction of times that `y` < `f(x)`."
   ]
  },
  {
   "cell_type": "code",
   "execution_count": null,
   "metadata": {},
   "outputs": [],
   "source": []
  }
 ],
 "metadata": {
  "kernelspec": {
   "display_name": "Python 3",
   "language": "python",
   "name": "python3"
  },
  "language_info": {
   "codemirror_mode": {
    "name": "ipython",
    "version": 3
   },
   "file_extension": ".py",
   "mimetype": "text/x-python",
   "name": "python",
   "nbconvert_exporter": "python",
   "pygments_lexer": "ipython3",
   "version": "3.8.1"
  }
 },
 "nbformat": 4,
 "nbformat_minor": 4
}
