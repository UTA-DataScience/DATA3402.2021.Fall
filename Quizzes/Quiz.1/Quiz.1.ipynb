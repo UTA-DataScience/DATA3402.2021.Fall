{
 "cells": [
  {
   "cell_type": "markdown",
   "metadata": {},
   "source": [
    "# Quiz 1\n"
   ]
  },
  {
   "cell_type": "markdown",
   "metadata": {},
   "source": [
    "Create a shopping cart system:\n",
    "    * With the following classes:\n",
    "        * Item: \n",
    "            * Attributes/constructor: name, id, price\n",
    "        * Customer\n",
    "            * Attributes/constructor: name, id\n",
    "        * Shopping Cart\n",
    "            * Attributes\n",
    "                * Constructor: Customer / Inventory (?)\n",
    "                * Items\n",
    "                    * Quantity\n",
    "            * Methods:\n",
    "                * Add Item (option quantity)\n",
    "                * Remove Item\n",
    "                * Print\n",
    "                * Checkout -> give total\n",
    "        * Inventory System\n",
    "            * Attributes:\n",
    "                * Items\n",
    "                    * Quantity\n",
    "            * Methods:\n",
    "                * Add Item (option quantity)\n",
    "                * Remove Item\n",
    "                * Print\n",
    "    * Test/Demonstrate:\n",
    "        * Store setup:\n",
    "            * Create 3 dummy items.\n",
    "            * Create 1 Inventory.\n",
    "            * Add them n of each item to Inventory. \n",
    "        * Run through:\n",
    "            * Create a customer\n",
    "            * Create a shopping cart\n",
    "            * Add items to shopping cart\n",
    "        * Demonstrate:\n",
    "            * Adding/removing items from Inventory and Shopping Cart.\n",
    "            * Proper Quantity Handling.\n",
    "            * Checkout.\n",
    "            * Failing to add item due to low inventory.\n"
   ]
  },
  {
   "cell_type": "code",
   "execution_count": null,
   "metadata": {},
   "outputs": [],
   "source": []
  }
 ],
 "metadata": {
  "kernelspec": {
   "display_name": "Python 3",
   "language": "python",
   "name": "python3"
  },
  "language_info": {
   "codemirror_mode": {
    "name": "ipython",
    "version": 3
   },
   "file_extension": ".py",
   "mimetype": "text/x-python",
   "name": "python",
   "nbconvert_exporter": "python",
   "pygments_lexer": "ipython3",
   "version": "3.8.1"
  }
 },
 "nbformat": 4,
 "nbformat_minor": 4
}
