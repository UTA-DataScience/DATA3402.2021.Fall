{
 "cells": [
  {
   "cell_type": "markdown",
   "metadata": {},
   "source": [
    "# Lecture 17- Visualization"
   ]
  },
  {
   "cell_type": "code",
   "execution_count": null,
   "metadata": {},
   "outputs": [],
   "source": [
    "import pandas as pd\n",
    "import numpy as np\n",
    "import matplotlib.pyplot as plt\n",
    "%matplotlib inline"
   ]
  },
  {
   "cell_type": "markdown",
   "metadata": {},
   "source": [
    "Lets load up some of the data from last lecture and investigate how to visualize it."
   ]
  },
  {
   "cell_type": "code",
   "execution_count": null,
   "metadata": {},
   "outputs": [],
   "source": [
    "df = pd.read_csv(\"heart.csv\")"
   ]
  },
  {
   "cell_type": "code",
   "execution_count": null,
   "metadata": {},
   "outputs": [],
   "source": [
    "df"
   ]
  },
  {
   "cell_type": "markdown",
   "metadata": {},
   "source": [
    "## Matplotlib\n",
    "\n",
    "`matplotlib` is the most commonly used plotting tool in the python ecosystem. There is extensive documentation, and you are encouraged to look through the [Tutorials](https://matplotlib.org/3.3.3/tutorials/index.html).\n",
    "\n",
    "But before we dive into the techinical aspects of making plots, let's first think of what type of plots may be useful in a data science context.\n"
   ]
  },
  {
   "cell_type": "markdown",
   "metadata": {},
   "source": [
    "## Histograms\n",
    "\n",
    "As discussed throughout the course, a dataset typically consists of data points, each of which is a set of observations of the same set of random variables. What we are describing is a table, with each row corresponding to a data point, and each column a random variable. \n"
   ]
  },
  {
   "cell_type": "code",
   "execution_count": null,
   "metadata": {},
   "outputs": [],
   "source": [
    "plt.hist(df[\"chol\"])"
   ]
  },
  {
   "cell_type": "code",
   "execution_count": null,
   "metadata": {},
   "outputs": [],
   "source": [
    "plt.hist(df[\"chol\"],bins=50)"
   ]
  },
  {
   "cell_type": "code",
   "execution_count": null,
   "metadata": {},
   "outputs": [],
   "source": [
    "_=plt.hist(df[\"chol\"],bins=50)"
   ]
  },
  {
   "cell_type": "code",
   "execution_count": null,
   "metadata": {},
   "outputs": [],
   "source": [
    "cp_0_selection=df[\"cp\"]==0\n",
    "cp_not_0_selection=df[\"cp\"]!=0"
   ]
  },
  {
   "cell_type": "code",
   "execution_count": null,
   "metadata": {},
   "outputs": [],
   "source": [
    "_=plt.hist(df[cp_0_selection][\"chol\"],bins=50)\n",
    "_=plt.hist(df[cp_not_0_selection][\"chol\"],bins=50)"
   ]
  },
  {
   "cell_type": "code",
   "execution_count": null,
   "metadata": {},
   "outputs": [],
   "source": [
    "_=plt.hist(df[cp_0_selection][\"chol\"],bins=50,label=\"CP 0\")\n",
    "_=plt.hist(df[cp_not_0_selection][\"chol\"],bins=50,label=\"CP not 0\")\n",
    "_=plt.legend()"
   ]
  },
  {
   "cell_type": "code",
   "execution_count": null,
   "metadata": {},
   "outputs": [],
   "source": [
    "_=plt.hist(df[cp_0_selection][\"chol\"],bins=50,alpha=.5,color='b',label=\"CP 0\")\n",
    "_=plt.hist(df[cp_not_0_selection][\"chol\"],bins=50,alpha=.5,color='r',label=\"CP not 0\")\n",
    "_=plt.legend()"
   ]
  },
  {
   "cell_type": "code",
   "execution_count": null,
   "metadata": {},
   "outputs": [],
   "source": [
    "print(np.sum(cp_0_selection))\n",
    "print(np.sum(cp_not_0_selection))"
   ]
  },
  {
   "cell_type": "code",
   "execution_count": null,
   "metadata": {},
   "outputs": [],
   "source": [
    "_=plt.hist(df[cp_0_selection][\"chol\"],bins=50,alpha=.5,color='b',density=1,label=\"CP 0\")\n",
    "_=plt.hist(df[cp_not_0_selection][\"chol\"],bins=50,alpha=.5,color='r',density=1,label=\"CP not 0\")\n",
    "_=plt.legend()"
   ]
  },
  {
   "cell_type": "code",
   "execution_count": null,
   "metadata": {},
   "outputs": [],
   "source": [
    "def compare_distributions(df,column_name,selections,**kwargs):\n",
    "    for label,selection in selections.items():        \n",
    "        _=plt.hist(df[selection][column_name],label=label,**kwargs)\n",
    "\n",
    "    _=plt.legend()\n"
   ]
  },
  {
   "cell_type": "code",
   "execution_count": null,
   "metadata": {},
   "outputs": [],
   "source": [
    "compare_distributions(df,\"chol\",\n",
    "                     {\"CP 0\":df[\"cp\"]==0.,\n",
    "                      \"CP Not 0\":df[\"cp\"]!=0},\n",
    "                     alpha=0.5,\n",
    "                     density=1,\n",
    "                     bins=50,\n",
    "                     )"
   ]
  },
  {
   "cell_type": "code",
   "execution_count": null,
   "metadata": {
    "scrolled": true
   },
   "outputs": [],
   "source": [
    "selection_dict={\"CP 0\":df[\"cp\"]==0.,\"CP Not 0\":df[\"cp\"]!=0}\n",
    "\n",
    "for column_name in df.columns:\n",
    "    \n",
    "    compare_distributions(df,column_name,\n",
    "                     selection_dict,\n",
    "                     alpha=0.5,\n",
    "                     density=1,\n",
    "                     bins=50,\n",
    "                     )\n",
    "    plt.show()"
   ]
  },
  {
   "cell_type": "code",
   "execution_count": null,
   "metadata": {},
   "outputs": [],
   "source": [
    "len(df.columns)"
   ]
  },
  {
   "cell_type": "code",
   "execution_count": null,
   "metadata": {},
   "outputs": [],
   "source": [
    "selection_dict={\"CP 0\":df[\"cp\"]==0.,\"CP Not 0\":df[\"cp\"]!=0}\n",
    "\n",
    "plt.figure(figsize=(15,15))\n",
    "\n",
    "for i,column_name in enumerate(df.columns):\n",
    "    plt.subplot(5,3,i+1)\n",
    "    compare_distributions(df,column_name,\n",
    "                     selection_dict,\n",
    "                     alpha=0.5,\n",
    "                     density=1,\n",
    "                     bins=50,\n",
    "                     stacked=True\n",
    "                     )\n",
    "    plt.xlabel(column_name)\n",
    "plt.show()"
   ]
  },
  {
   "cell_type": "markdown",
   "metadata": {},
   "source": [
    "## 1-D Plots"
   ]
  },
  {
   "cell_type": "code",
   "execution_count": null,
   "metadata": {},
   "outputs": [],
   "source": [
    "import math\n",
    "\n",
    "x = np.linspace(-2.*math.pi,2.*math.pi,100)\n",
    "y = list(map(math.sin,x))\n",
    "\n",
    "_=plt.plot(x,y)"
   ]
  },
  {
   "cell_type": "code",
   "execution_count": null,
   "metadata": {},
   "outputs": [],
   "source": [
    "x = np.linspace(-2.*math.pi,2.*math.pi,100)\n",
    "y_1 = list(map(math.sin,x))\n",
    "y_2 = list(map(math.cos,x))\n",
    "\n",
    "_=plt.plot(x,y_1,label=\"sin\")\n",
    "_=plt.plot(x,y_2,label=\"cos\")\n",
    "\n",
    "_=plt.legend()"
   ]
  },
  {
   "cell_type": "code",
   "execution_count": null,
   "metadata": {},
   "outputs": [],
   "source": [
    "df.columns"
   ]
  },
  {
   "cell_type": "code",
   "execution_count": null,
   "metadata": {},
   "outputs": [],
   "source": [
    "_=plt.plot(df[\"thalach\"],df[\"chol\"])"
   ]
  },
  {
   "cell_type": "markdown",
   "metadata": {},
   "source": [
    "## 2-D Plots"
   ]
  },
  {
   "cell_type": "code",
   "execution_count": null,
   "metadata": {},
   "outputs": [],
   "source": [
    "_=plt.scatter(df[\"thalach\"],df[\"chol\"])"
   ]
  },
  {
   "cell_type": "code",
   "execution_count": null,
   "metadata": {},
   "outputs": [],
   "source": [
    "selection_dict={\"CP 0\":df[\"cp\"]==0.,\"CP Not 0\":df[\"cp\"]!=0}\n",
    "\n",
    "for label,selection in selection_dict.items():   \n",
    "    _=plt.scatter(df[selection][\"thalach\"],df[selection][\"chol\"],label=label)\n",
    "\n",
    "_=plt.xlabel(\"thalach\")\n",
    "_=plt.ylabel(\"chol\")\n",
    "\n",
    "_=plt.legend()\n"
   ]
  },
  {
   "cell_type": "code",
   "execution_count": null,
   "metadata": {},
   "outputs": [],
   "source": [
    "selection_dict={\"CP 0\":df[\"cp\"]==0.,\"CP Not 0\":df[\"cp\"]!=0}\n",
    "\n",
    "def compare_scatter(df,x_var_name,y_var_name,selections,make_legend=True) :\n",
    "    for label,selection in selections.items():   \n",
    "        _=plt.scatter(df[selection][x_var_name],df[selection][y_var_name],label=label)\n",
    "\n",
    "    _=plt.xlabel(x_var_name)\n",
    "    _=plt.ylabel(y_var_name)\n",
    "\n",
    "    if make_legend:\n",
    "        _=plt.legend()\n",
    "\n"
   ]
  },
  {
   "cell_type": "code",
   "execution_count": null,
   "metadata": {},
   "outputs": [],
   "source": [
    "compare_scatter(df,\"thalach\",\"chol\",selection_dict)"
   ]
  },
  {
   "cell_type": "code",
   "execution_count": null,
   "metadata": {},
   "outputs": [],
   "source": [
    "for x_var_name in df.columns:\n",
    "    for y_var_name in df.columns:\n",
    "        compare_scatter(df,x_var_name,y_var_name,selection_dict)\n",
    "        plt.show()\n"
   ]
  },
  {
   "cell_type": "code",
   "execution_count": null,
   "metadata": {},
   "outputs": [],
   "source": [
    "columns = df.columns[1:6]\n",
    "n_columns=len(columns)\n",
    "plt.figure(figsize=(15,15))\n",
    "\n",
    "plot_i=0\n",
    "for i,x_var_name in enumerate(columns):\n",
    "    for j,y_var_name in enumerate(columns):\n",
    "        plot_i+=1\n",
    "        plt.subplot(n_columns,n_columns,plot_i)\n",
    "        make_legend = plot_i==1\n",
    "        compare_scatter(df,x_var_name,y_var_name,selection_dict,make_legend=make_legend)\n",
    "\n"
   ]
  },
  {
   "cell_type": "code",
   "execution_count": null,
   "metadata": {},
   "outputs": [],
   "source": [
    "# Pair plot\n",
    "\n",
    "columns = df.columns[1:6]\n",
    "n_columns=len(columns)\n",
    "plt.figure(figsize=(15,15))\n",
    "\n",
    "plot_i=0\n",
    "for i,x_var_name in enumerate(columns):\n",
    "    for j,y_var_name in enumerate(columns):\n",
    "        plot_i+=1\n",
    "        plt.subplot(n_columns,n_columns,plot_i)\n",
    "        make_legend = plot_i==1\n",
    "        if i==j:\n",
    "            compare_distributions(df,x_var_name,\n",
    "                     selection_dict,\n",
    "                     alpha=0.5,\n",
    "                     density=1,\n",
    "                     bins=50,\n",
    "                     )\n",
    "        else:\n",
    "            compare_scatter(df,x_var_name,y_var_name,selection_dict,make_legend=make_legend)"
   ]
  },
  {
   "cell_type": "code",
   "execution_count": null,
   "metadata": {},
   "outputs": [],
   "source": [
    "import seaborn as sns\n"
   ]
  },
  {
   "cell_type": "code",
   "execution_count": null,
   "metadata": {},
   "outputs": [],
   "source": [
    "sns.pairplot(df,hue=\"cp\")"
   ]
  },
  {
   "cell_type": "code",
   "execution_count": null,
   "metadata": {},
   "outputs": [],
   "source": []
  }
 ],
 "metadata": {
  "kernelspec": {
   "display_name": "Python 3",
   "language": "python",
   "name": "python3"
  },
  "language_info": {
   "codemirror_mode": {
    "name": "ipython",
    "version": 3
   },
   "file_extension": ".py",
   "mimetype": "text/x-python",
   "name": "python",
   "nbconvert_exporter": "python",
   "pygments_lexer": "ipython3",
   "version": "3.8.1"
  }
 },
 "nbformat": 4,
 "nbformat_minor": 2
}
