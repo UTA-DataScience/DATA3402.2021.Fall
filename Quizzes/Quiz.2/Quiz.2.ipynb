{
 "cells": [
  {
   "cell_type": "markdown",
   "metadata": {},
   "source": [
    "# Quiz 2\n",
    "\n",
    "Note:\n",
    "\n",
    "* You may copy and paste from your labs and lecture (see below).\n",
    "* Don't copy the data, just use the full path when loading it (e.g. `\"../../Labs/Lab.6/SUSY.csv\"`)\n",
    "\n",
    "Question: \n",
    "\n",
    "* Load the SUSY dataset into a DataFrame, as you have already done for current lab.\n",
    "* Select two of the following observables.  \n",
    "  * 'M_Delta_R',\n",
    "  * 'S_R',\n",
    "  * 'M_R',\n",
    "  * 'R'\n",
    "* Optimize selection on one observable for 300 expected signal, 3000 expected background scenario. \n",
    "* Apply the selection and create new data frames.\n",
    "* Correct the expected numbers of signal and background for the selection.\n",
    "* Select a second observable. Optimize.\n",
    "* Report the maximal signficance expected for proposed scenario.\n"
   ]
  },
  {
   "cell_type": "code",
   "execution_count": 1,
   "metadata": {},
   "outputs": [],
   "source": [
    "import pandas as pd\n",
    "import numpy as np\n",
    "import matplotlib.pyplot as plt\n",
    "%matplotlib inline\n",
    "import tabulate\n",
    "from IPython.display import HTML, display\n",
    "\n",
    "def compute_rate(d,bins=100):\n",
    "    hist,bins_=np.histogram(d,bins=bins,density=True)\n",
    "    R = np.cumsum(hist[::-1])[::-1] * (bins_[1]-bins_[0])\n",
    "    return R,bins_\n",
    "\n",
    "def compare_significance(df_sig, df_bkg,\n",
    "                         obs_name,\n",
    "                         scenarios,bins=100,log=False):\n",
    "        \n",
    "    TPR,bins_sig = compute_rate(df_sig[obs_name],bins=bins)\n",
    "    FPR,bins_sig = compute_rate(df_bkg[obs_name],bins=bins_sig)\n",
    "    \n",
    "    max_sigs=dict()\n",
    "    table=list()\n",
    "    \n",
    "    for name, (n_sig_expected, n_bkg_expected) in scenarios.items():\n",
    "\n",
    "        n_sig_expected_prime = n_sig_expected * TPR\n",
    "        n_bkg_expected_prime = n_bkg_expected * FPR\n",
    "\n",
    "        sig = n_sig_expected_prime/ np.sqrt(n_sig_expected_prime + n_bkg_expected_prime )\n",
    "        plt.step(bins_sig[:-1],sig,label=name+\" \"+str((n_sig_expected, n_bkg_expected)))\n",
    "    \n",
    "        max_i=np.argmax(sig)\n",
    "        max_sigs[name]=(max_i,n_sig_expected_prime[max_i],n_bkg_expected_prime[max_i],sig[max_i],bins_sig[max_i])\n",
    "        table.append((name,n_sig_expected, n_bkg_expected, \n",
    "                      TPR[max_i],FPR[max_i],\n",
    "                      n_sig_expected_prime[max_i],n_bkg_expected_prime[max_i],sig[max_i],bins_sig[max_i],max_i)\n",
    "        )\n",
    "    if log:\n",
    "        plt.yscale(\"log\")\n",
    "    plt.legend()\n",
    "    plt.show()\n",
    "    \n",
    "    display(HTML(tabulate.tabulate(table, tablefmt='html',\n",
    "                                   headers=[\"Name\",'N sig','N bkg',\"TPR\",\"FPR\",\"N sig'\",\"N bkg'\",'sig','x_c',\"bin i\"])))\n",
    "    return max_sigs\n",
    "\n"
   ]
  },
  {
   "cell_type": "code",
   "execution_count": null,
   "metadata": {},
   "outputs": [],
   "source": []
  }
 ],
 "metadata": {
  "kernelspec": {
   "display_name": "Python 3",
   "language": "python",
   "name": "python3"
  },
  "language_info": {
   "codemirror_mode": {
    "name": "ipython",
    "version": 3
   },
   "file_extension": ".py",
   "mimetype": "text/x-python",
   "name": "python",
   "nbconvert_exporter": "python",
   "pygments_lexer": "ipython3",
   "version": "3.8.1"
  }
 },
 "nbformat": 4,
 "nbformat_minor": 4
}
