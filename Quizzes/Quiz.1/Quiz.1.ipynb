{
 "cells": [
  {
   "cell_type": "markdown",
   "metadata": {},
   "source": [
    "# Quiz 1\n"
   ]
  },
  {
   "cell_type": "markdown",
   "metadata": {},
   "source": [
    "* Create a shopping cart system:\n",
    "    * With the following classes:\n",
    "        * Item: \n",
    "            * Attributes/constructor: name, id, price\n",
    "        * Customer\n",
    "            * Attributes/constructor: name, id\n",
    "        * Shopping Cart\n",
    "            * Attributes\n",
    "                * Constructor: Customer / Inventory (?)\n",
    "                * Items\n",
    "                    * Quantity\n",
    "            * Methods:\n",
    "                * Add Item (option quantity)\n",
    "                * Remove Item\n",
    "                * Print\n",
    "                * Checkout -> give total\n",
    "        * Inventory System\n",
    "            * Attributes:\n",
    "                * Items\n",
    "                    * Quantity\n",
    "            * Methods:\n",
    "                * Add Item (option quantity)\n",
    "                * Remove Item\n",
    "                * Print\n",
    "    * Test/Demonstrate:\n",
    "        * Store setup:\n",
    "            * Create 3 dummy items.\n",
    "            * Create 1 Inventory.\n",
    "            * Add them n of each item to Inventory. \n",
    "        * Run through:\n",
    "            * Create a customer\n",
    "            * Create a shopping cart\n",
    "            * Add items to shopping cart\n",
    "        * Demonstrate:\n",
    "            * Adding/removing items from Inventory and Shopping Cart.\n",
    "            * Proper Quantity Handling.\n",
    "            * Checkout.\n",
    "            * Failing to add item due to low inventory.\n"
   ]
  },
  {
   "cell_type": "code",
   "execution_count": 122,
   "metadata": {},
   "outputs": [],
   "source": [
    "class IDAssigner:\n",
    "    def __init__(self):\n",
    "        self.__ID=0\n",
    "    \n",
    "    def getID(self):\n",
    "        self.__ID+=1\n",
    "        return self.__ID\n",
    "    \n",
    "class Item:\n",
    "    def __init__(self,name,ID,price):\n",
    "        self.name=name\n",
    "        self.ID=ID\n",
    "        self.price=price\n",
    "        \n",
    "class Customer:\n",
    "    def __init__(self,name,ID):\n",
    "        self.name=name\n",
    "        self.ID=ID    \n",
    "\n",
    "class ItemStore:\n",
    "    def __init__(self):\n",
    "        self.Items=dict()\n",
    "    \n",
    "    def add_item(self,item,quantity=1):\n",
    "        if item.ID in self.Items:\n",
    "            self.Items[item.ID][1]+=quantity\n",
    "        else:    \n",
    "            self.Items[item.ID]=[item,quantity]\n",
    "        return True\n",
    "            \n",
    "    def remove_item(self,item,quantity=1):\n",
    "        if item.ID in self.Items:\n",
    "            if quantity>self.Items[item.ID][1]:\n",
    "                return False\n",
    "            if quantity==self.Items[item.ID][1]:\n",
    "                del self.Items[item.ID]\n",
    "            else:\n",
    "                self.Items[item.ID][1]-=quantity\n",
    "            return True\n",
    "    \n",
    "        return False\n",
    "    \n",
    "    def print(self):\n",
    "        for item_id,(item,quantity) in self.Items.items():\n",
    "            print(item_id,\":\",item.name, \"Quantity:\", quantity)\n",
    "        \n",
    "class ShoppingCart(ItemStore):\n",
    "    def __init__(self,customer,inventory):\n",
    "        self.customer=customer\n",
    "        self.inventory=inventory\n",
    "        ItemStore.__init__(self)        \n",
    "    \n",
    "    def add_to_cart(self,item,quantity=1):\n",
    "        if self.inventory.remove_item(item,quantity):\n",
    "            self.add_item(item,quantity)\n",
    "        else:\n",
    "            print(\"Item not in inventory or insuffient quantity in inventory. ID:\", item.ID)\n",
    "    \n",
    "    def remove_from_cart(self,item,quantity=1):\n",
    "        if self.remove_item(item,quantity):\n",
    "            self.inventory.add_item(item,quantity)\n",
    "        else:\n",
    "            print(\"Item not in inventory or insuffient quantity in inventory. ID:\", item.ID)\n",
    "            \n",
    "    def check_out(self):\n",
    "        self.print()\n",
    "        total=0\n",
    "        for item_id,(item,quantity) in self.Items.items():\n",
    "            total+=quantity*item.price\n",
    "            \n",
    "        print(\"Total:\",total)\n",
    "\n",
    "        "
   ]
  },
  {
   "cell_type": "code",
   "execution_count": 123,
   "metadata": {},
   "outputs": [],
   "source": [
    "item_id_assigner = IDAssigner()\n",
    "customer_id_assigner = IDAssigner()"
   ]
  },
  {
   "cell_type": "code",
   "execution_count": 124,
   "metadata": {},
   "outputs": [
    {
     "data": {
      "text/plain": [
       "True"
      ]
     },
     "execution_count": 124,
     "metadata": {},
     "output_type": "execute_result"
    }
   ],
   "source": [
    "# Store setup\n",
    "\n",
    "item_id_assigner = IDAssigner()\n",
    "customer_id_assigner = IDAssigner()\n",
    "\n",
    "# Inventory\n",
    "\n",
    "inventory=ItemStore()\n",
    "\n",
    "# Items\n",
    "inventory.add_item(Item(\"sugar\",item_id_assigner.getID(), 1.30),10)\n",
    "inventory.add_item(Item('bread',item_id_assigner.getID(),1.50),1)\n",
    "inventory.add_item(Item('butter',item_id_assigner.getID(),1.82),5)"
   ]
  },
  {
   "cell_type": "code",
   "execution_count": 125,
   "metadata": {},
   "outputs": [
    {
     "name": "stdout",
     "output_type": "stream",
     "text": [
      "1 : sugar Quantity: 10\n",
      "2 : bread Quantity: 1\n",
      "3 : butter Quantity: 5\n"
     ]
    }
   ],
   "source": [
    "inventory.print()"
   ]
  },
  {
   "cell_type": "code",
   "execution_count": 134,
   "metadata": {},
   "outputs": [],
   "source": [
    "c1 = Customer(\"john smith\",customer_id_assigner.getID())\n",
    "\n",
    "cart = ShoppingCart(c1,inventory)"
   ]
  },
  {
   "cell_type": "code",
   "execution_count": 135,
   "metadata": {},
   "outputs": [],
   "source": [
    "item1=inventory.Items[1][0]\n",
    "item2=inventory.Items[2][0]\n",
    "item3=inventory.Items[3][0]\n",
    "\n",
    "cart.add_to_cart(item1)"
   ]
  },
  {
   "cell_type": "code",
   "execution_count": 136,
   "metadata": {},
   "outputs": [
    {
     "name": "stdout",
     "output_type": "stream",
     "text": [
      "1 : sugar Quantity: 1\n"
     ]
    }
   ],
   "source": [
    "cart.print()"
   ]
  },
  {
   "cell_type": "code",
   "execution_count": 137,
   "metadata": {},
   "outputs": [
    {
     "name": "stdout",
     "output_type": "stream",
     "text": [
      "1 : sugar Quantity: 6\n",
      "2 : bread Quantity: 1\n",
      "3 : butter Quantity: 4\n"
     ]
    }
   ],
   "source": [
    "inventory.print()"
   ]
  },
  {
   "cell_type": "code",
   "execution_count": 138,
   "metadata": {},
   "outputs": [],
   "source": [
    "cart.remove_from_cart(item1)\n",
    "cart.print()"
   ]
  },
  {
   "cell_type": "code",
   "execution_count": 139,
   "metadata": {},
   "outputs": [
    {
     "name": "stdout",
     "output_type": "stream",
     "text": [
      "Item not in inventory or insuffient quantity in inventory. ID: 1\n"
     ]
    }
   ],
   "source": [
    "cart.remove_from_cart(item1)\n",
    "cart.print()"
   ]
  },
  {
   "cell_type": "code",
   "execution_count": 140,
   "metadata": {},
   "outputs": [
    {
     "name": "stdout",
     "output_type": "stream",
     "text": [
      "Before\n",
      "1 : sugar Quantity: 7\n",
      "2 : bread Quantity: 1\n",
      "3 : butter Quantity: 4\n",
      "After\n",
      "1 : sugar Quantity: 6\n",
      "2 : bread Quantity: 1\n",
      "3 : butter Quantity: 4\n"
     ]
    }
   ],
   "source": [
    "print(\"Before\")\n",
    "inventory.print()\n",
    "inventory.remove_item(item1)\n",
    "print(\"After\")\n",
    "inventory.print()"
   ]
  },
  {
   "cell_type": "code",
   "execution_count": 141,
   "metadata": {},
   "outputs": [
    {
     "name": "stdout",
     "output_type": "stream",
     "text": [
      "Checkout\n",
      "1 : sugar Quantity: 2\n",
      "2 : bread Quantity: 1\n",
      "3 : butter Quantity: 1\n",
      "Total: 5.92\n",
      "Inventory\n",
      "1 : sugar Quantity: 4\n",
      "3 : butter Quantity: 3\n"
     ]
    }
   ],
   "source": [
    "cart.add_to_cart(item1,2)\n",
    "cart.add_to_cart(item2,1)\n",
    "cart.add_to_cart(item3,1)\n",
    "\n",
    "print(\"Checkout\")\n",
    "cart.check_out()\n",
    "\n",
    "print(\"Inventory\")\n",
    "inventory.print()"
   ]
  },
  {
   "cell_type": "code",
   "execution_count": null,
   "metadata": {},
   "outputs": [],
   "source": []
  },
  {
   "cell_type": "code",
   "execution_count": null,
   "metadata": {},
   "outputs": [],
   "source": []
  }
 ],
 "metadata": {
  "kernelspec": {
   "display_name": "Python 3",
   "language": "python",
   "name": "python3"
  },
  "language_info": {
   "codemirror_mode": {
    "name": "ipython",
    "version": 3
   },
   "file_extension": ".py",
   "mimetype": "text/x-python",
   "name": "python",
   "nbconvert_exporter": "python",
   "pygments_lexer": "ipython3",
   "version": "3.8.1"
  }
 },
 "nbformat": 4,
 "nbformat_minor": 4
}
