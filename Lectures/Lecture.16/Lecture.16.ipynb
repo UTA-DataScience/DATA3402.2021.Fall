{
 "cells": [
  {
   "cell_type": "markdown",
   "metadata": {},
   "source": [
    "# Lecture 16- First look at SUSY Data\n"
   ]
  },
  {
   "cell_type": "markdown",
   "metadata": {},
   "source": [
    "\n",
    "## HiggsML\n",
    "In 2014, some of my colleagues from the ATLAS experiment put together a Higgs Machine Learning Challenge, which was hosted on [Kaggle](https://www.kaggle.com). Please read sections 1 and 3 (skip/skim 2) of [The HiggsML Technical Documentation](https://higgsml.lal.in2p3.fr/files/2014/04/documentation_v1.8.pdf). \n",
    "\n",
    "Kaggle is a platform for data science competitions, with cash awards for winners. Kaggle currently hosts over 50,000 public datasets and associated competitions. Later in the course we will look at a variety of problems hosted on Kaggle and similar platforms. \n",
    "\n",
    "## SUSY/Higgs Datasets\n",
    "\n",
    "For the next few labs we will use datasets used in the [first paper on Deep Learning in High Energy physics](https://arxiv.org/pdf/1402.4735.pdf). Please read up to the \"Deep Learning\" section (end of page 5). This paper demonstrates that Deep Neural Networks can learn from raw data the features that are typically used by physicists for searches for exotics particles. The authors provide the data they used for this paper. They considered two benchmark scenarios: Higgs and SUSY."
   ]
  },
  {
   "cell_type": "markdown",
   "metadata": {},
   "source": [
    "### SUSY Dataset\n",
    "\n",
    "The information about the dataset can be found at the [UCI Machine Learning Repository](https://archive.ics.uci.edu/ml/index.php). We'll start with the [SUSY Dataset](https://archive.ics.uci.edu/ml/datasets/SUSY). \n",
    "\n",
    "### Download\n",
    "In a terminal, download the data directly from the source and then decompress it. For example:"
   ]
  },
  {
   "cell_type": "markdown",
   "metadata": {},
   "source": [
    "* To download:\n",
    "    * On Mac OS: \n",
    "    `curl http://archive.ics.uci.edu/ml/machine-learning-databases/00279/SUSY.csv.gz > SUSY.csv.gz`\n",
    "\n",
    "    * In linux:\n",
    "    `wget http://archive.ics.uci.edu/ml/machine-learning-databases/00279/SUSY.csv.gz`\n",
    "\n",
    "* To uncompress:\n",
    "`gunzip SUSY.csv.gz`"
   ]
  },
  {
   "cell_type": "code",
   "execution_count": null,
   "metadata": {
    "scrolled": true
   },
   "outputs": [],
   "source": [
    "#!curl http://archive.ics.uci.edu/ml/machine-learning-databases/00279/SUSY.csv.gz > SUSY.csv.gz"
   ]
  },
  {
   "cell_type": "code",
   "execution_count": null,
   "metadata": {},
   "outputs": [],
   "source": [
    "#!gunzip SUSY.csv.gz"
   ]
  },
  {
   "cell_type": "markdown",
   "metadata": {},
   "source": [
    "The data is provided as a comma separated file."
   ]
  },
  {
   "cell_type": "code",
   "execution_count": 1,
   "metadata": {
    "scrolled": true
   },
   "outputs": [
    {
     "name": "stdout",
     "output_type": "stream",
     "text": [
      "0.000000000000000000e+00,9.728614687919616699e-01,6.538545489311218262e-01,1.176224589347839355e+00,1.157156467437744141e+00,-1.739873170852661133e+00,-8.743090629577636719e-01,5.677649974822998047e-01,-1.750000417232513428e-01,8.100607395172119141e-01,-2.525521218776702881e-01,1.921887040138244629e+00,8.896374106407165527e-01,4.107718467712402344e-01,1.145620822906494141e+00,1.932632088661193848e+00,9.944640994071960449e-01,1.367815494537353516e+00,4.071449860930442810e-02\r\n",
      "1.000000000000000000e+00,1.667973041534423828e+00,6.419061869382858276e-02,-1.225171446800231934e+00,5.061022043228149414e-01,-3.389389812946319580e-01,1.672542810440063477e+00,3.475464344024658203e+00,-1.219136357307434082e+00,1.295456290245056152e-02,3.775173664093017578e+00,1.045977115631103516e+00,5.680512785911560059e-01,4.819284379482269287e-01,0.000000000000000000e+00,4.484102725982666016e-01,2.053557634353637695e-01,1.321893453598022461e+00,3.775840103626251221e-01\r\n",
      "1.000000000000000000e+00,4.448399245738983154e-01,-1.342980116605758667e-01,-7.099716067314147949e-01,4.517189264297485352e-01,-1.613871216773986816e+00,-7.686609029769897461e-01,1.219918131828308105e+00,5.040258169174194336e-01,1.831247568130493164e+00,-4.313853085041046143e-01,5.262832045555114746e-01,9.415140151977539062e-01,1.587535023689270020e+00,2.024308204650878906e+00,6.034975647926330566e-01,1.562373995780944824e+00,1.135454416275024414e+00,1.809100061655044556e-01\r\n",
      "1.000000000000000000e+00,3.812560737133026123e-01,-9.761453866958618164e-01,6.931523084640502930e-01,4.489588439464569092e-01,8.917528986930847168e-01,-6.773284673690795898e-01,2.033060073852539062e+00,1.533040523529052734e+00,3.046259880065917969e+00,-1.005284786224365234e+00,5.693860650062561035e-01,1.015211343765258789e+00,1.582216739654541016e+00,1.551914215087890625e+00,7.612152099609375000e-01,1.715463757514953613e+00,1.492256760597229004e+00,9.071890264749526978e-02\r\n",
      "1.000000000000000000e+00,1.309996485710144043e+00,-6.900894641876220703e-01,-6.762592792510986328e-01,1.589282631874084473e+00,-6.933256387710571289e-01,6.229069828987121582e-01,1.087561845779418945e+00,-3.817416727542877197e-01,5.892043709754943848e-01,1.365478992462158203e+00,1.179295063018798828e+00,9.682182073593139648e-01,7.285631299018859863e-01,0.000000000000000000e+00,1.083157896995544434e+00,4.342924803495407104e-02,1.154853701591491699e+00,9.485860168933868408e-02\r\n"
     ]
    }
   ],
   "source": [
    "filename=\"SUSY.csv\"\n",
    "# print out the first 5 lines using unix head command\n",
    "!head -5  \"SUSY.csv\""
   ]
  },
  {
   "cell_type": "markdown",
   "metadata": {},
   "source": [
    "### Quick note on GitHub and large files\n",
    "\n",
    "GitHub is not intended for storing large data files. Please take care not to add/commit large files, for example the SUSY file we just downloaded, to your git repositories. "
   ]
  },
  {
   "cell_type": "markdown",
   "metadata": {},
   "source": [
    "### First Look\n",
    "\n",
    "Each row represents a LHC collision event. Each column contains some observable from that event. The variable names are ([based on documentation](https://archive.ics.uci.edu/ml/datasets/SUSY)):"
   ]
  },
  {
   "cell_type": "code",
   "execution_count": 3,
   "metadata": {},
   "outputs": [],
   "source": [
    "VarNames=[\"signal\", \"l_1_pT\", \"l_1_eta\",\"l_1_phi\", \"l_2_pT\", \"l_2_eta\", \"l_2_phi\", \"MET\", \"MET_phi\", \"MET_rel\", \"axial_MET\", \"M_R\", \"M_TR_2\", \"R\", \"MT2\", \"S_R\", \"M_Delta_R\", \"dPhi_r_b\", \"cos_theta_r1\"]"
   ]
  },
  {
   "cell_type": "markdown",
   "metadata": {},
   "source": [
    "Some of these variables represent the \"raw\" kinematics of the observed final state particles, while others are \"features\" that are derived from these raw quantities:"
   ]
  },
  {
   "cell_type": "code",
   "execution_count": 4,
   "metadata": {},
   "outputs": [],
   "source": [
    "RawNames=[\"l_1_pT\", \"l_1_eta\",\"l_1_phi\", \"l_2_pT\", \"l_2_eta\", \"l_2_phi\", \"MET\", \"MET_phi\"]\n",
    "FeatureNames=list(set(VarNames[1:]).difference(RawNames))"
   ]
  },
  {
   "cell_type": "code",
   "execution_count": 5,
   "metadata": {},
   "outputs": [
    {
     "data": {
      "text/plain": [
       "['l_1_pT',\n",
       " 'l_1_eta',\n",
       " 'l_1_phi',\n",
       " 'l_2_pT',\n",
       " 'l_2_eta',\n",
       " 'l_2_phi',\n",
       " 'MET',\n",
       " 'MET_phi']"
      ]
     },
     "execution_count": 5,
     "metadata": {},
     "output_type": "execute_result"
    }
   ],
   "source": [
    "RawNames"
   ]
  },
  {
   "cell_type": "code",
   "execution_count": 6,
   "metadata": {},
   "outputs": [
    {
     "data": {
      "text/plain": [
       "['MET_rel',\n",
       " 'M_R',\n",
       " 'cos_theta_r1',\n",
       " 'MT2',\n",
       " 'M_TR_2',\n",
       " 'axial_MET',\n",
       " 'S_R',\n",
       " 'M_Delta_R',\n",
       " 'dPhi_r_b',\n",
       " 'R']"
      ]
     },
     "execution_count": 6,
     "metadata": {},
     "output_type": "execute_result"
    }
   ],
   "source": [
    "FeatureNames"
   ]
  },
  {
   "cell_type": "markdown",
   "metadata": {},
   "source": [
    "We will use pandas to read in the file, and matplotlib to make plots. The following ensures pandas is installed and sets everything up:"
   ]
  },
  {
   "cell_type": "code",
   "execution_count": 7,
   "metadata": {},
   "outputs": [],
   "source": [
    "import pandas as pd\n",
    "import numpy as np\n",
    "import matplotlib.pyplot as plt\n",
    "%matplotlib inline"
   ]
  },
  {
   "cell_type": "code",
   "execution_count": 8,
   "metadata": {},
   "outputs": [
    {
     "name": "stdout",
     "output_type": "stream",
     "text": [
      "total 5159496\r\n",
      "-rw-r--r--@ 1 afarbin  staff    23K Oct 27 14:05 Lecture.16.ipynb\r\n",
      "-rw-r--r--@ 1 afarbin  staff   7.1M Oct 27 12:40 Lecture.16.pdf\r\n",
      "-rw-r--r--@ 1 afarbin  staff   228M Oct 27 12:10 SUSY-small.csv\r\n",
      "-rw-r--r--@ 1 afarbin  staff   2.2G Oct 27 12:06 SUSY.csv\r\n"
     ]
    }
   ],
   "source": [
    "!ls -lh"
   ]
  },
  {
   "cell_type": "code",
   "execution_count": 9,
   "metadata": {},
   "outputs": [],
   "source": [
    "!head -500000 SUSY.csv > SUSY-small.csv"
   ]
  },
  {
   "cell_type": "code",
   "execution_count": 10,
   "metadata": {},
   "outputs": [
    {
     "name": "stdout",
     "output_type": "stream",
     "text": [
      "total 5184288\r\n",
      "-rw-r--r--@ 1 afarbin  staff    23K Oct 27 14:05 Lecture.16.ipynb\r\n",
      "-rw-r--r--@ 1 afarbin  staff   7.1M Oct 27 12:40 Lecture.16.pdf\r\n",
      "-rw-r--r--@ 1 afarbin  staff   228M Oct 27 14:06 SUSY-small.csv\r\n",
      "-rw-r--r--@ 1 afarbin  staff   2.2G Oct 27 12:06 SUSY.csv\r\n"
     ]
    }
   ],
   "source": [
    "!ls -lh"
   ]
  },
  {
   "cell_type": "markdown",
   "metadata": {},
   "source": [
    "Now we can read the data into a pandas dataframe:"
   ]
  },
  {
   "cell_type": "code",
   "execution_count": 11,
   "metadata": {},
   "outputs": [],
   "source": [
    "filename=\"SUSY.csv\"\n",
    "df = pd.read_csv(filename, dtype='float64', names=VarNames)"
   ]
  },
  {
   "cell_type": "markdown",
   "metadata": {},
   "source": [
    "You can see the data in Jupyter by just evaluateing the dataframe:"
   ]
  },
  {
   "cell_type": "code",
   "execution_count": 12,
   "metadata": {},
   "outputs": [
    {
     "data": {
      "text/html": [
       "<div>\n",
       "<style scoped>\n",
       "    .dataframe tbody tr th:only-of-type {\n",
       "        vertical-align: middle;\n",
       "    }\n",
       "\n",
       "    .dataframe tbody tr th {\n",
       "        vertical-align: top;\n",
       "    }\n",
       "\n",
       "    .dataframe thead th {\n",
       "        text-align: right;\n",
       "    }\n",
       "</style>\n",
       "<table border=\"1\" class=\"dataframe\">\n",
       "  <thead>\n",
       "    <tr style=\"text-align: right;\">\n",
       "      <th></th>\n",
       "      <th>signal</th>\n",
       "      <th>l_1_pT</th>\n",
       "      <th>l_1_eta</th>\n",
       "      <th>l_1_phi</th>\n",
       "      <th>l_2_pT</th>\n",
       "      <th>l_2_eta</th>\n",
       "      <th>l_2_phi</th>\n",
       "      <th>MET</th>\n",
       "      <th>MET_phi</th>\n",
       "      <th>MET_rel</th>\n",
       "      <th>axial_MET</th>\n",
       "      <th>M_R</th>\n",
       "      <th>M_TR_2</th>\n",
       "      <th>R</th>\n",
       "      <th>MT2</th>\n",
       "      <th>S_R</th>\n",
       "      <th>M_Delta_R</th>\n",
       "      <th>dPhi_r_b</th>\n",
       "      <th>cos_theta_r1</th>\n",
       "    </tr>\n",
       "  </thead>\n",
       "  <tbody>\n",
       "    <tr>\n",
       "      <th>0</th>\n",
       "      <td>0.0</td>\n",
       "      <td>0.972861</td>\n",
       "      <td>0.653855</td>\n",
       "      <td>1.176225</td>\n",
       "      <td>1.157156</td>\n",
       "      <td>-1.739873</td>\n",
       "      <td>-0.874309</td>\n",
       "      <td>0.567765</td>\n",
       "      <td>-0.175000</td>\n",
       "      <td>0.810061</td>\n",
       "      <td>-0.252552</td>\n",
       "      <td>1.921887</td>\n",
       "      <td>0.889637</td>\n",
       "      <td>0.410772</td>\n",
       "      <td>1.145621</td>\n",
       "      <td>1.932632</td>\n",
       "      <td>0.994464</td>\n",
       "      <td>1.367815</td>\n",
       "      <td>0.040714</td>\n",
       "    </tr>\n",
       "    <tr>\n",
       "      <th>1</th>\n",
       "      <td>1.0</td>\n",
       "      <td>1.667973</td>\n",
       "      <td>0.064191</td>\n",
       "      <td>-1.225171</td>\n",
       "      <td>0.506102</td>\n",
       "      <td>-0.338939</td>\n",
       "      <td>1.672543</td>\n",
       "      <td>3.475464</td>\n",
       "      <td>-1.219136</td>\n",
       "      <td>0.012955</td>\n",
       "      <td>3.775174</td>\n",
       "      <td>1.045977</td>\n",
       "      <td>0.568051</td>\n",
       "      <td>0.481928</td>\n",
       "      <td>0.000000</td>\n",
       "      <td>0.448410</td>\n",
       "      <td>0.205356</td>\n",
       "      <td>1.321893</td>\n",
       "      <td>0.377584</td>\n",
       "    </tr>\n",
       "    <tr>\n",
       "      <th>2</th>\n",
       "      <td>1.0</td>\n",
       "      <td>0.444840</td>\n",
       "      <td>-0.134298</td>\n",
       "      <td>-0.709972</td>\n",
       "      <td>0.451719</td>\n",
       "      <td>-1.613871</td>\n",
       "      <td>-0.768661</td>\n",
       "      <td>1.219918</td>\n",
       "      <td>0.504026</td>\n",
       "      <td>1.831248</td>\n",
       "      <td>-0.431385</td>\n",
       "      <td>0.526283</td>\n",
       "      <td>0.941514</td>\n",
       "      <td>1.587535</td>\n",
       "      <td>2.024308</td>\n",
       "      <td>0.603498</td>\n",
       "      <td>1.562374</td>\n",
       "      <td>1.135454</td>\n",
       "      <td>0.180910</td>\n",
       "    </tr>\n",
       "    <tr>\n",
       "      <th>3</th>\n",
       "      <td>1.0</td>\n",
       "      <td>0.381256</td>\n",
       "      <td>-0.976145</td>\n",
       "      <td>0.693152</td>\n",
       "      <td>0.448959</td>\n",
       "      <td>0.891753</td>\n",
       "      <td>-0.677328</td>\n",
       "      <td>2.033060</td>\n",
       "      <td>1.533041</td>\n",
       "      <td>3.046260</td>\n",
       "      <td>-1.005285</td>\n",
       "      <td>0.569386</td>\n",
       "      <td>1.015211</td>\n",
       "      <td>1.582217</td>\n",
       "      <td>1.551914</td>\n",
       "      <td>0.761215</td>\n",
       "      <td>1.715464</td>\n",
       "      <td>1.492257</td>\n",
       "      <td>0.090719</td>\n",
       "    </tr>\n",
       "    <tr>\n",
       "      <th>4</th>\n",
       "      <td>1.0</td>\n",
       "      <td>1.309996</td>\n",
       "      <td>-0.690089</td>\n",
       "      <td>-0.676259</td>\n",
       "      <td>1.589283</td>\n",
       "      <td>-0.693326</td>\n",
       "      <td>0.622907</td>\n",
       "      <td>1.087562</td>\n",
       "      <td>-0.381742</td>\n",
       "      <td>0.589204</td>\n",
       "      <td>1.365479</td>\n",
       "      <td>1.179295</td>\n",
       "      <td>0.968218</td>\n",
       "      <td>0.728563</td>\n",
       "      <td>0.000000</td>\n",
       "      <td>1.083158</td>\n",
       "      <td>0.043429</td>\n",
       "      <td>1.154854</td>\n",
       "      <td>0.094859</td>\n",
       "    </tr>\n",
       "    <tr>\n",
       "      <th>...</th>\n",
       "      <td>...</td>\n",
       "      <td>...</td>\n",
       "      <td>...</td>\n",
       "      <td>...</td>\n",
       "      <td>...</td>\n",
       "      <td>...</td>\n",
       "      <td>...</td>\n",
       "      <td>...</td>\n",
       "      <td>...</td>\n",
       "      <td>...</td>\n",
       "      <td>...</td>\n",
       "      <td>...</td>\n",
       "      <td>...</td>\n",
       "      <td>...</td>\n",
       "      <td>...</td>\n",
       "      <td>...</td>\n",
       "      <td>...</td>\n",
       "      <td>...</td>\n",
       "      <td>...</td>\n",
       "    </tr>\n",
       "    <tr>\n",
       "      <th>4999995</th>\n",
       "      <td>1.0</td>\n",
       "      <td>0.853325</td>\n",
       "      <td>-0.961783</td>\n",
       "      <td>-1.487277</td>\n",
       "      <td>0.678190</td>\n",
       "      <td>0.493580</td>\n",
       "      <td>1.647969</td>\n",
       "      <td>1.843867</td>\n",
       "      <td>0.276954</td>\n",
       "      <td>1.025105</td>\n",
       "      <td>-1.486535</td>\n",
       "      <td>0.892879</td>\n",
       "      <td>1.684429</td>\n",
       "      <td>1.674084</td>\n",
       "      <td>3.366298</td>\n",
       "      <td>1.046707</td>\n",
       "      <td>2.646649</td>\n",
       "      <td>1.389226</td>\n",
       "      <td>0.364599</td>\n",
       "    </tr>\n",
       "    <tr>\n",
       "      <th>4999996</th>\n",
       "      <td>0.0</td>\n",
       "      <td>0.951581</td>\n",
       "      <td>0.139370</td>\n",
       "      <td>1.436884</td>\n",
       "      <td>0.880440</td>\n",
       "      <td>-0.351948</td>\n",
       "      <td>-0.740852</td>\n",
       "      <td>0.290863</td>\n",
       "      <td>-0.732360</td>\n",
       "      <td>0.001360</td>\n",
       "      <td>0.257738</td>\n",
       "      <td>0.802871</td>\n",
       "      <td>0.545319</td>\n",
       "      <td>0.602730</td>\n",
       "      <td>0.002998</td>\n",
       "      <td>0.748959</td>\n",
       "      <td>0.401166</td>\n",
       "      <td>0.443471</td>\n",
       "      <td>0.239953</td>\n",
       "    </tr>\n",
       "    <tr>\n",
       "      <th>4999997</th>\n",
       "      <td>0.0</td>\n",
       "      <td>0.840389</td>\n",
       "      <td>1.419162</td>\n",
       "      <td>-1.218766</td>\n",
       "      <td>1.195631</td>\n",
       "      <td>1.695645</td>\n",
       "      <td>0.663756</td>\n",
       "      <td>0.490888</td>\n",
       "      <td>-0.509186</td>\n",
       "      <td>0.704289</td>\n",
       "      <td>0.045744</td>\n",
       "      <td>0.825015</td>\n",
       "      <td>0.723530</td>\n",
       "      <td>0.778236</td>\n",
       "      <td>0.752942</td>\n",
       "      <td>0.838953</td>\n",
       "      <td>0.614048</td>\n",
       "      <td>1.210595</td>\n",
       "      <td>0.026692</td>\n",
       "    </tr>\n",
       "    <tr>\n",
       "      <th>4999998</th>\n",
       "      <td>1.0</td>\n",
       "      <td>1.784218</td>\n",
       "      <td>-0.833565</td>\n",
       "      <td>-0.560091</td>\n",
       "      <td>0.953342</td>\n",
       "      <td>-0.688969</td>\n",
       "      <td>-1.428233</td>\n",
       "      <td>2.660703</td>\n",
       "      <td>-0.861344</td>\n",
       "      <td>2.116892</td>\n",
       "      <td>2.906151</td>\n",
       "      <td>1.232334</td>\n",
       "      <td>0.952444</td>\n",
       "      <td>0.685846</td>\n",
       "      <td>0.000000</td>\n",
       "      <td>0.781874</td>\n",
       "      <td>0.676003</td>\n",
       "      <td>1.197807</td>\n",
       "      <td>0.093689</td>\n",
       "    </tr>\n",
       "    <tr>\n",
       "      <th>4999999</th>\n",
       "      <td>0.0</td>\n",
       "      <td>0.761500</td>\n",
       "      <td>0.680454</td>\n",
       "      <td>-1.186213</td>\n",
       "      <td>1.043521</td>\n",
       "      <td>-0.316755</td>\n",
       "      <td>0.246879</td>\n",
       "      <td>1.120280</td>\n",
       "      <td>0.998479</td>\n",
       "      <td>1.640881</td>\n",
       "      <td>-0.797688</td>\n",
       "      <td>0.854212</td>\n",
       "      <td>1.121858</td>\n",
       "      <td>1.165438</td>\n",
       "      <td>1.498351</td>\n",
       "      <td>0.931580</td>\n",
       "      <td>1.293524</td>\n",
       "      <td>1.539167</td>\n",
       "      <td>0.187496</td>\n",
       "    </tr>\n",
       "  </tbody>\n",
       "</table>\n",
       "<p>5000000 rows × 19 columns</p>\n",
       "</div>"
      ],
      "text/plain": [
       "         signal    l_1_pT   l_1_eta   l_1_phi    l_2_pT   l_2_eta   l_2_phi  \\\n",
       "0           0.0  0.972861  0.653855  1.176225  1.157156 -1.739873 -0.874309   \n",
       "1           1.0  1.667973  0.064191 -1.225171  0.506102 -0.338939  1.672543   \n",
       "2           1.0  0.444840 -0.134298 -0.709972  0.451719 -1.613871 -0.768661   \n",
       "3           1.0  0.381256 -0.976145  0.693152  0.448959  0.891753 -0.677328   \n",
       "4           1.0  1.309996 -0.690089 -0.676259  1.589283 -0.693326  0.622907   \n",
       "...         ...       ...       ...       ...       ...       ...       ...   \n",
       "4999995     1.0  0.853325 -0.961783 -1.487277  0.678190  0.493580  1.647969   \n",
       "4999996     0.0  0.951581  0.139370  1.436884  0.880440 -0.351948 -0.740852   \n",
       "4999997     0.0  0.840389  1.419162 -1.218766  1.195631  1.695645  0.663756   \n",
       "4999998     1.0  1.784218 -0.833565 -0.560091  0.953342 -0.688969 -1.428233   \n",
       "4999999     0.0  0.761500  0.680454 -1.186213  1.043521 -0.316755  0.246879   \n",
       "\n",
       "              MET   MET_phi   MET_rel  axial_MET       M_R    M_TR_2  \\\n",
       "0        0.567765 -0.175000  0.810061  -0.252552  1.921887  0.889637   \n",
       "1        3.475464 -1.219136  0.012955   3.775174  1.045977  0.568051   \n",
       "2        1.219918  0.504026  1.831248  -0.431385  0.526283  0.941514   \n",
       "3        2.033060  1.533041  3.046260  -1.005285  0.569386  1.015211   \n",
       "4        1.087562 -0.381742  0.589204   1.365479  1.179295  0.968218   \n",
       "...           ...       ...       ...        ...       ...       ...   \n",
       "4999995  1.843867  0.276954  1.025105  -1.486535  0.892879  1.684429   \n",
       "4999996  0.290863 -0.732360  0.001360   0.257738  0.802871  0.545319   \n",
       "4999997  0.490888 -0.509186  0.704289   0.045744  0.825015  0.723530   \n",
       "4999998  2.660703 -0.861344  2.116892   2.906151  1.232334  0.952444   \n",
       "4999999  1.120280  0.998479  1.640881  -0.797688  0.854212  1.121858   \n",
       "\n",
       "                R       MT2       S_R  M_Delta_R  dPhi_r_b  cos_theta_r1  \n",
       "0        0.410772  1.145621  1.932632   0.994464  1.367815      0.040714  \n",
       "1        0.481928  0.000000  0.448410   0.205356  1.321893      0.377584  \n",
       "2        1.587535  2.024308  0.603498   1.562374  1.135454      0.180910  \n",
       "3        1.582217  1.551914  0.761215   1.715464  1.492257      0.090719  \n",
       "4        0.728563  0.000000  1.083158   0.043429  1.154854      0.094859  \n",
       "...           ...       ...       ...        ...       ...           ...  \n",
       "4999995  1.674084  3.366298  1.046707   2.646649  1.389226      0.364599  \n",
       "4999996  0.602730  0.002998  0.748959   0.401166  0.443471      0.239953  \n",
       "4999997  0.778236  0.752942  0.838953   0.614048  1.210595      0.026692  \n",
       "4999998  0.685846  0.000000  0.781874   0.676003  1.197807      0.093689  \n",
       "4999999  1.165438  1.498351  0.931580   1.293524  1.539167      0.187496  \n",
       "\n",
       "[5000000 rows x 19 columns]"
      ]
     },
     "execution_count": 12,
     "metadata": {},
     "output_type": "execute_result"
    }
   ],
   "source": [
    "df"
   ]
  },
  {
   "cell_type": "markdown",
   "metadata": {},
   "source": [
    "The first column stores the \"truth\" label of whether an event was signal or not. Pandas makes it easy to create dataframes that store only the signal or background events:"
   ]
  },
  {
   "cell_type": "code",
   "execution_count": 13,
   "metadata": {},
   "outputs": [],
   "source": [
    "df_sig=df[df.signal==1]\n",
    "df_bkg=df[df.signal==0]"
   ]
  },
  {
   "cell_type": "markdown",
   "metadata": {},
   "source": [
    "The following example plots the signal and background distributions of every variable. Note that we use VarNames[1:] to skip the first variable, which was the true label."
   ]
  },
  {
   "cell_type": "code",
   "execution_count": 14,
   "metadata": {
    "scrolled": false
   },
   "outputs": [
    {
     "name": "stdout",
     "output_type": "stream",
     "text": [
      "l_1_pT\n"
     ]
    },
    {
     "data": {
      "image/png": "[encoded data removed]",
      "text/plain": [
       "<Figure size 720x360 with 1 Axes>"
      ]
     },
     "metadata": {
      "needs_background": "light"
     },
     "output_type": "display_data"
    },
    {
     "name": "stdout",
     "output_type": "stream",
     "text": [
      "l_1_eta\n"
     ]
    },
    {
     "data": {
      "image/png": "[encoded data removed]",
      "text/plain": [
       "<Figure size 720x360 with 1 Axes>"
      ]
     },
     "metadata": {
      "needs_background": "light"
     },
     "output_type": "display_data"
    },
    {
     "name": "stdout",
     "output_type": "stream",
     "text": [
      "l_1_phi\n"
     ]
    },
    {
     "data": {
      "image/png": "[encoded data removed]",
      "text/plain": [
       "<Figure size 720x360 with 1 Axes>"
      ]
     },
     "metadata": {
      "needs_background": "light"
     },
     "output_type": "display_data"
    },
    {
     "name": "stdout",
     "output_type": "stream",
     "text": [
      "l_2_pT\n"
     ]
    },
    {
     "data": {
      "image/png": "[encoded data removed]",
      "text/plain": [
       "<Figure size 720x360 with 1 Axes>"
      ]
     },
     "metadata": {
      "needs_background": "light"
     },
     "output_type": "display_data"
    },
    {
     "name": "stdout",
     "output_type": "stream",
     "text": [
      "l_2_eta\n"
     ]
    },
    {
     "data": {
      "image/png": "[encoded data removed]",
      "text/plain": [
       "<Figure size 720x360 with 1 Axes>"
      ]
     },
     "metadata": {
      "needs_background": "light"
     },
     "output_type": "display_data"
    },
    {
     "name": "stdout",
     "output_type": "stream",
     "text": [
      "l_2_phi\n"
     ]
    },
    {
     "data": {
      "image/png": "[encoded data removed]",
      "text/plain": [
       "<Figure size 720x360 with 1 Axes>"
      ]
     },
     "metadata": {
      "needs_background": "light"
     },
     "output_type": "display_data"
    },
    {
     "name": "stdout",
     "output_type": "stream",
     "text": [
      "MET\n"
     ]
    },
    {
     "data": {
      "image/png": "[encoded data removed]",
      "text/plain": [
       "<Figure size 720x360 with 1 Axes>"
      ]
     },
     "metadata": {
      "needs_background": "light"
     },
     "output_type": "display_data"
    },
    {
     "name": "stdout",
     "output_type": "stream",
     "text": [
      "MET_phi\n"
     ]
    },
    {
     "data": {
      "image/png": "[encoded data removed]",
      "text/plain": [
       "<Figure size 720x360 with 1 Axes>"
      ]
     },
     "metadata": {
      "needs_background": "light"
     },
     "output_type": "display_data"
    },
    {
     "name": "stdout",
     "output_type": "stream",
     "text": [
      "MET_rel\n"
     ]
    },
    {
     "data": {
      "image/png": "[encoded data removed]",
      "text/plain": [
       "<Figure size 720x360 with 1 Axes>"
      ]
     },
     "metadata": {
      "needs_background": "light"
     },
     "output_type": "display_data"
    },
    {
     "name": "stdout",
     "output_type": "stream",
     "text": [
      "axial_MET\n"
     ]
    },
    {
     "data": {
      "image/png": "[encoded data removed]",
      "text/plain": [
       "<Figure size 720x360 with 1 Axes>"
      ]
     },
     "metadata": {
      "needs_background": "light"
     },
     "output_type": "display_data"
    },
    {
     "name": "stdout",
     "output_type": "stream",
     "text": [
      "M_R\n"
     ]
    },
    {
     "data": {
      "image/png": "[encoded data removed]",
      "text/plain": [
       "<Figure size 720x360 with 1 Axes>"
      ]
     },
     "metadata": {
      "needs_background": "light"
     },
     "output_type": "display_data"
    },
    {
     "name": "stdout",
     "output_type": "stream",
     "text": [
      "M_TR_2\n"
     ]
    },
    {
     "data": {
      "image/png": "[encoded data removed]",
      "text/plain": [
       "<Figure size 720x360 with 1 Axes>"
      ]
     },
     "metadata": {
      "needs_background": "light"
     },
     "output_type": "display_data"
    },
    {
     "name": "stdout",
     "output_type": "stream",
     "text": [
      "R\n"
     ]
    },
    {
     "data": {
      "image/png": "[encoded data removed]",
      "text/plain": [
       "<Figure size 720x360 with 1 Axes>"
      ]
     },
     "metadata": {
      "needs_background": "light"
     },
     "output_type": "display_data"
    },
    {
     "name": "stdout",
     "output_type": "stream",
     "text": [
      "MT2\n"
     ]
    },
    {
     "data": {
      "image/png": "[encoded data removed]",
      "text/plain": [
       "<Figure size 720x360 with 1 Axes>"
      ]
     },
     "metadata": {
      "needs_background": "light"
     },
     "output_type": "display_data"
    },
    {
     "name": "stdout",
     "output_type": "stream",
     "text": [
      "S_R\n"
     ]
    },
    {
     "data": {
      "image/png": "[encoded data removed]",
      "text/plain": [
       "<Figure size 720x360 with 1 Axes>"
      ]
     },
     "metadata": {
      "needs_background": "light"
     },
     "output_type": "display_data"
    },
    {
     "name": "stdout",
     "output_type": "stream",
     "text": [
      "M_Delta_R\n"
     ]
    },
    {
     "data": {
      "image/png": "[encoded data removed]",
      "text/plain": [
       "<Figure size 720x360 with 1 Axes>"
      ]
     },
     "metadata": {
      "needs_background": "light"
     },
     "output_type": "display_data"
    },
    {
     "name": "stdout",
     "output_type": "stream",
     "text": [
      "dPhi_r_b\n"
     ]
    },
    {
     "data": {
      "image/png": "[encoded data removed]",
      "text/plain": [
       "<Figure size 720x360 with 1 Axes>"
      ]
     },
     "metadata": {
      "needs_background": "light"
     },
     "output_type": "display_data"
    },
    {
     "name": "stdout",
     "output_type": "stream",
     "text": [
      "cos_theta_r1\n"
     ]
    },
    {
     "data": {
      "image/png": "[encoded data removed]",
      "text/plain": [
       "<Figure size 720x360 with 1 Axes>"
      ]
     },
     "metadata": {
      "needs_background": "light"
     },
     "output_type": "display_data"
    }
   ],
   "source": [
    "import numpy as np\n",
    "for var in VarNames[1:]:\n",
    "    print (var)\n",
    "    plt.figure(figsize=(10,5))\n",
    "    plt.hist(np.array(df_sig[var]),bins=100,histtype=\"step\", color=\"red\",label=\"signal\",density=True, stacked=True)\n",
    "    plt.hist(np.array(df_bkg[var]),bins=100,histtype=\"step\", color=\"blue\", label=\"background\",density=True, stacked=True)\n",
    "    plt.legend(loc='upper right')\n",
    "    plt.show()"
   ]
  },
  {
   "cell_type": "code",
   "execution_count": 15,
   "metadata": {},
   "outputs": [
    {
     "data": {
      "image/png": "[encoded data removed]",
      "text/plain": [
       "<Figure size 720x360 with 1 Axes>"
      ]
     },
     "metadata": {
      "needs_background": "light"
     },
     "output_type": "display_data"
    }
   ],
   "source": [
    "plt.figure(figsize=(10,5))\n",
    "plt.hist(np.array(df_sig[\"l_1_pT\"]),bins=100,histtype=\"step\", color=\"red\",label=\"lepton 1\",density=True, stacked=True)\n",
    "plt.hist(np.array(df_sig[\"l_2_pT\"]),bins=100,histtype=\"step\", color=\"blue\", label=\"lepton 2\",density=True, stacked=True)\n",
    "plt.legend(loc='upper right')\n",
    "plt.show()"
   ]
  },
  {
   "cell_type": "code",
   "execution_count": 16,
   "metadata": {},
   "outputs": [
    {
     "data": {
      "image/png": "[encoded data removed]",
      "text/plain": [
       "<Figure size 432x288 with 1 Axes>"
      ]
     },
     "metadata": {
      "needs_background": "light"
     },
     "output_type": "display_data"
    }
   ],
   "source": [
    "_=plt.hist(np.array(df_sig[\"l_1_pT\"])-np.array(df_sig[\"l_2_pT\"]),bins=100,histtype=\"step\", color=\"red\",label=\"lepton 1\",density=True, stacked=True)"
   ]
  },
  {
   "cell_type": "markdown",
   "metadata": {},
   "source": [
    "## Closer Look\n",
    "\n",
    "Lets take a closer look at what the density option is doing:"
   ]
  },
  {
   "cell_type": "code",
   "execution_count": 17,
   "metadata": {},
   "outputs": [
    {
     "data": {
      "text/plain": [
       "2287827.0"
      ]
     },
     "execution_count": 17,
     "metadata": {},
     "output_type": "execute_result"
    },
    {
     "data": {
      "image/png": "[encoded data removed]",
      "text/plain": [
       "<Figure size 432x288 with 1 Axes>"
      ]
     },
     "metadata": {
      "needs_background": "light"
     },
     "output_type": "display_data"
    }
   ],
   "source": [
    "# density = False\n",
    "counts,bin_edges_0,_=plt.hist(np.array(df_sig[\"l_1_pT\"]),bins=100,histtype=\"step\",density=False)\n",
    "sum(counts)"
   ]
  },
  {
   "cell_type": "code",
   "execution_count": 18,
   "metadata": {},
   "outputs": [
    {
     "data": {
      "text/plain": [
       "6.01020748072837"
      ]
     },
     "execution_count": 18,
     "metadata": {},
     "output_type": "execute_result"
    },
    {
     "data": {
      "image/png": "[encoded data removed]",
      "text/plain": [
       "<Figure size 432x288 with 1 Axes>"
      ]
     },
     "metadata": {
      "needs_background": "light"
     },
     "output_type": "display_data"
    }
   ],
   "source": [
    "# density = True\n",
    "densities,bin_edges_1,_=plt.hist(np.array(df_sig[\"l_1_pT\"]),bins=100,histtype=\"step\",density=True)\n",
    "sum(densities)"
   ]
  },
  {
   "cell_type": "markdown",
   "metadata": {},
   "source": [
    "From the [`matplotlib` histogram documentation](https://matplotlib.org/3.3.3/api/_as_gen/matplotlib.pyplot.hist.html) for the denisty option:\n",
    "\n",
    "If True, draw and return a probability density: each bin will display the bin's raw count divided by the total number of counts and the bin width (`density = counts / (sum(counts) * np.diff(bins))`), so that the area under the histogram integrates to 1 (`np.sum(density * np.diff(bins)) == 1`).\n",
    "\n",
    "If stacked is also True, the sum of the histograms is normalized to 1.\n",
    "\n",
    "Lets check:"
   ]
  },
  {
   "cell_type": "code",
   "execution_count": 19,
   "metadata": {},
   "outputs": [],
   "source": [
    "densities_0 = counts / (sum(counts) * (bin_edges_0[1] - bin_edges_0[0]))"
   ]
  },
  {
   "cell_type": "code",
   "execution_count": 20,
   "metadata": {
    "scrolled": true
   },
   "outputs": [
    {
     "data": {
      "text/plain": [
       "[(0.18998210292618903, 0.18998210292618906, False),\n",
       " (0.5651362029894433, 0.5651362029894433, True),\n",
       " (0.7608925344926363, 0.7608925344926363, True),\n",
       " (0.7816251149884116, 0.7816251149884116, True),\n",
       " (0.7119455705041305, 0.7119455705041305, True),\n",
       " (0.6044629553997015, 0.6044629553997015, True),\n",
       " (0.49332087696143884, 0.49332087696143884, True),\n",
       " (0.39482535738109087, 0.39482535738109087, True),\n",
       " (0.31244408624994285, 0.31244408624994285, True),\n",
       " (0.24512362150276346, 0.24512362150276346, True),\n",
       " (0.19284294683899966, 0.1928429468389994, False),\n",
       " (0.15062908014023912, 0.15062908014023932, False),\n",
       " (0.11786204054016235, 0.1178620405401625, False),\n",
       " (0.09328610408071271, 0.09328610408071258, False),\n",
       " (0.07399051313526538, 0.07399051313526528, False),\n",
       " (0.05917927532036636, 0.059179275320366445, False),\n",
       " (0.04777530523266226, 0.047775305232662324, False),\n",
       " (0.037879254709653525, 0.03787925470965347, False),\n",
       " (0.0314246234022384, 0.03142462340223835, False),\n",
       " (0.02516701991250987, 0.0251670199125099, False),\n",
       " (0.01998387478856603, 0.019983874788566055, False),\n",
       " (0.016531947422695724, 0.0165319474226957, False),\n",
       " (0.013765676862374954, 0.013765676862374936, False),\n",
       " (0.011390834899858327, 0.011390834899858343, False),\n",
       " (0.009199885567182627, 0.009199885567182639, False),\n",
       " (0.007676203777072424, 0.007676203777072435, False),\n",
       " (0.0063416686919414555, 0.00634166869194143, False),\n",
       " (0.005414324430029524, 0.005414324430029531, False),\n",
       " (0.004305714575845895, 0.004305714575845901, False),\n",
       " (0.0038249667006904553, 0.00382496670069044, False),\n",
       " (0.003191850646523955, 0.0031918506465239594, False),\n",
       " (0.0027426272221983614, 0.002742627222198365, False),\n",
       " (0.0022986578730110787, 0.002298657873011082, False),\n",
       " (0.0019387537260367727, 0.0019387537260367753, False),\n",
       " (0.0016287632928764302, 0.0016287632928764237, False),\n",
       " (0.0014369895503280688, 0.0014369895503280705, False),\n",
       " (0.001161150605566739, 0.0011611506055667407, False),\n",
       " (0.0010376798398164355, 0.0010376798398164311, False),\n",
       " (0.0008721764729596322, 0.0008721764729596333, False),\n",
       " (0.0007723490453317225, 0.0007723490453317235, False),\n",
       " (0.0005963375281983028, 0.0005963375281983035, False),\n",
       " (0.00048337491272461546, 0.00048337491272461606, False),\n",
       " (0.0004912560254320846, 0.0004912560254320826, False),\n",
       " (0.00044659638675643813, 0.00044659638675643873, False),\n",
       " (0.0004150719359265719, 0.0004150719359265725, False),\n",
       " (0.00031787154586781943, 0.0003178715458678182, False),\n",
       " (0.00029160117017626257, 0.00029160117017626295, False),\n",
       " (0.0001707574419951087, 0.00017075744199510892, False),\n",
       " (0.0001576222541493311, 0.00015762225414933133, False),\n",
       " (0.00017863855470257527, 0.0001786385547025755, False),\n",
       " (0.0001392329911652425, 0.00013923299116524267, False),\n",
       " (0.0001155896530428428, 0.00011558965304284297, False),\n",
       " (0.00013923299116524397, 0.00013923299116524267, False),\n",
       " (0.0001129626154736873, 0.00011296261547368744, False),\n",
       " (0.00010508150276622075, 0.00010508150276622089, False),\n",
       " (0.00010508150276622075, 0.00010508150276622089, False),\n",
       " (7.618408950551003e-05, 7.618408950551014e-05, False),\n",
       " (7.355705193635452e-05, 7.355705193635462e-05, False),\n",
       " (4.728667624479933e-05, 4.7286676244799396e-05, False),\n",
       " (4.203260110648875e-05, 4.203260110648835e-05, False),\n",
       " (4.728667624479933e-05, 4.7286676244799396e-05, False),\n",
       " (4.2032601106488295e-05, 4.203260110648835e-05, False),\n",
       " (3.152445082986622e-05, 3.152445082986626e-05, False),\n",
       " (3.152445082986622e-05, 3.152445082986626e-05, False),\n",
       " (3.152445082986622e-05, 3.152445082986626e-05, False),\n",
       " (2.3643338122399664e-05, 2.3643338122399698e-05, False),\n",
       " (2.6270375691555188e-05, 2.6270375691555222e-05, False),\n",
       " (1.0508150276622074e-05, 1.0508150276622087e-05, False),\n",
       " (1.0508150276622187e-05, 1.0508150276622087e-05, False),\n",
       " (1.0508150276622074e-05, 1.0508150276622087e-05, False),\n",
       " (1.576222541493311e-05, 1.576222541493313e-05, False),\n",
       " (1.0508150276622074e-05, 1.0508150276622087e-05, False),\n",
       " (7.881112707466555e-06, 7.881112707466566e-06, False),\n",
       " (1.576222541493311e-05, 1.576222541493313e-05, False),\n",
       " (1.576222541493311e-05, 1.576222541493313e-05, False),\n",
       " (7.88111270746664e-06, 7.881112707466566e-06, False),\n",
       " (1.0508150276622074e-05, 1.0508150276622087e-05, False),\n",
       " (5.254075138311037e-06, 5.254075138311044e-06, False),\n",
       " (2.6270375691555184e-06, 2.627037569155522e-06, False),\n",
       " (5.254075138311037e-06, 5.254075138311044e-06, False),\n",
       " (5.254075138311037e-06, 5.254075138311044e-06, False),\n",
       " (2.6270375691555184e-06, 2.627037569155522e-06, False),\n",
       " (0.0, 0.0, True),\n",
       " (0.0, 0.0, True),\n",
       " (2.627037569155547e-06, 2.627037569155522e-06, False),\n",
       " (5.254075138311037e-06, 5.254075138311044e-06, False),\n",
       " (2.6270375691555184e-06, 2.627037569155522e-06, False),\n",
       " (2.6270375691555184e-06, 2.627037569155522e-06, False),\n",
       " (0.0, 0.0, True),\n",
       " (0.0, 0.0, True),\n",
       " (0.0, 0.0, True),\n",
       " (0.0, 0.0, True),\n",
       " (5.254075138311037e-06, 5.254075138311044e-06, False),\n",
       " (0.0, 0.0, True),\n",
       " (0.0, 0.0, True),\n",
       " (0.0, 0.0, True),\n",
       " (0.0, 0.0, True),\n",
       " (0.0, 0.0, True),\n",
       " (0.0, 0.0, True),\n",
       " (2.6270375691554905e-06, 2.627037569155522e-06, False)]"
      ]
     },
     "execution_count": 20,
     "metadata": {},
     "output_type": "execute_result"
    }
   ],
   "source": [
    "list(zip(densities,densities_0,densities == densities_0))"
   ]
  },
  {
   "cell_type": "markdown",
   "metadata": {},
   "source": [
    "Looks like we ran into round-off discrepencies, lets try something else:"
   ]
  },
  {
   "cell_type": "code",
   "execution_count": 21,
   "metadata": {
    "scrolled": true
   },
   "outputs": [
    {
     "data": {
      "text/plain": [
       "[(0.18998210292618903, 0.18998210292618906, True),\n",
       " (0.5651362029894433, 0.5651362029894433, True),\n",
       " (0.7608925344926363, 0.7608925344926363, True),\n",
       " (0.7816251149884116, 0.7816251149884116, True),\n",
       " (0.7119455705041305, 0.7119455705041305, True),\n",
       " (0.6044629553997015, 0.6044629553997015, True),\n",
       " (0.49332087696143884, 0.49332087696143884, True),\n",
       " (0.39482535738109087, 0.39482535738109087, True),\n",
       " (0.31244408624994285, 0.31244408624994285, True),\n",
       " (0.24512362150276346, 0.24512362150276346, True),\n",
       " (0.19284294683899966, 0.1928429468389994, True),\n",
       " (0.15062908014023912, 0.15062908014023932, True),\n",
       " (0.11786204054016235, 0.1178620405401625, True),\n",
       " (0.09328610408071271, 0.09328610408071258, True),\n",
       " (0.07399051313526538, 0.07399051313526528, True),\n",
       " (0.05917927532036636, 0.059179275320366445, True),\n",
       " (0.04777530523266226, 0.047775305232662324, True),\n",
       " (0.037879254709653525, 0.03787925470965347, True),\n",
       " (0.0314246234022384, 0.03142462340223835, True),\n",
       " (0.02516701991250987, 0.0251670199125099, True),\n",
       " (0.01998387478856603, 0.019983874788566055, True),\n",
       " (0.016531947422695724, 0.0165319474226957, True),\n",
       " (0.013765676862374954, 0.013765676862374936, True),\n",
       " (0.011390834899858327, 0.011390834899858343, True),\n",
       " (0.009199885567182627, 0.009199885567182639, True),\n",
       " (0.007676203777072424, 0.007676203777072435, True),\n",
       " (0.0063416686919414555, 0.00634166869194143, True),\n",
       " (0.005414324430029524, 0.005414324430029531, True),\n",
       " (0.004305714575845895, 0.004305714575845901, True),\n",
       " (0.0038249667006904553, 0.00382496670069044, True),\n",
       " (0.003191850646523955, 0.0031918506465239594, True),\n",
       " (0.0027426272221983614, 0.002742627222198365, True),\n",
       " (0.0022986578730110787, 0.002298657873011082, True),\n",
       " (0.0019387537260367727, 0.0019387537260367753, True),\n",
       " (0.0016287632928764302, 0.0016287632928764237, True),\n",
       " (0.0014369895503280688, 0.0014369895503280705, True),\n",
       " (0.001161150605566739, 0.0011611506055667407, True),\n",
       " (0.0010376798398164355, 0.0010376798398164311, True),\n",
       " (0.0008721764729596322, 0.0008721764729596333, True),\n",
       " (0.0007723490453317225, 0.0007723490453317235, True),\n",
       " (0.0005963375281983028, 0.0005963375281983035, True),\n",
       " (0.00048337491272461546, 0.00048337491272461606, True),\n",
       " (0.0004912560254320846, 0.0004912560254320826, True),\n",
       " (0.00044659638675643813, 0.00044659638675643873, True),\n",
       " (0.0004150719359265719, 0.0004150719359265725, True),\n",
       " (0.00031787154586781943, 0.0003178715458678182, True),\n",
       " (0.00029160117017626257, 0.00029160117017626295, True),\n",
       " (0.0001707574419951087, 0.00017075744199510892, True),\n",
       " (0.0001576222541493311, 0.00015762225414933133, True),\n",
       " (0.00017863855470257527, 0.0001786385547025755, True),\n",
       " (0.0001392329911652425, 0.00013923299116524267, True),\n",
       " (0.0001155896530428428, 0.00011558965304284297, True),\n",
       " (0.00013923299116524397, 0.00013923299116524267, True),\n",
       " (0.0001129626154736873, 0.00011296261547368744, True),\n",
       " (0.00010508150276622075, 0.00010508150276622089, True),\n",
       " (0.00010508150276622075, 0.00010508150276622089, True),\n",
       " (7.618408950551003e-05, 7.618408950551014e-05, True),\n",
       " (7.355705193635452e-05, 7.355705193635462e-05, True),\n",
       " (4.728667624479933e-05, 4.7286676244799396e-05, True),\n",
       " (4.203260110648875e-05, 4.203260110648835e-05, True),\n",
       " (4.728667624479933e-05, 4.7286676244799396e-05, True),\n",
       " (4.2032601106488295e-05, 4.203260110648835e-05, True),\n",
       " (3.152445082986622e-05, 3.152445082986626e-05, True),\n",
       " (3.152445082986622e-05, 3.152445082986626e-05, True),\n",
       " (3.152445082986622e-05, 3.152445082986626e-05, True),\n",
       " (2.3643338122399664e-05, 2.3643338122399698e-05, True),\n",
       " (2.6270375691555188e-05, 2.6270375691555222e-05, True),\n",
       " (1.0508150276622074e-05, 1.0508150276622087e-05, True),\n",
       " (1.0508150276622187e-05, 1.0508150276622087e-05, True),\n",
       " (1.0508150276622074e-05, 1.0508150276622087e-05, True),\n",
       " (1.576222541493311e-05, 1.576222541493313e-05, True),\n",
       " (1.0508150276622074e-05, 1.0508150276622087e-05, True),\n",
       " (7.881112707466555e-06, 7.881112707466566e-06, True),\n",
       " (1.576222541493311e-05, 1.576222541493313e-05, True),\n",
       " (1.576222541493311e-05, 1.576222541493313e-05, True),\n",
       " (7.88111270746664e-06, 7.881112707466566e-06, True),\n",
       " (1.0508150276622074e-05, 1.0508150276622087e-05, True),\n",
       " (5.254075138311037e-06, 5.254075138311044e-06, True),\n",
       " (2.6270375691555184e-06, 2.627037569155522e-06, True),\n",
       " (5.254075138311037e-06, 5.254075138311044e-06, True),\n",
       " (5.254075138311037e-06, 5.254075138311044e-06, True),\n",
       " (2.6270375691555184e-06, 2.627037569155522e-06, True),\n",
       " (0.0, 0.0, True),\n",
       " (0.0, 0.0, True),\n",
       " (2.627037569155547e-06, 2.627037569155522e-06, True),\n",
       " (5.254075138311037e-06, 5.254075138311044e-06, True),\n",
       " (2.6270375691555184e-06, 2.627037569155522e-06, True),\n",
       " (2.6270375691555184e-06, 2.627037569155522e-06, True),\n",
       " (0.0, 0.0, True),\n",
       " (0.0, 0.0, True),\n",
       " (0.0, 0.0, True),\n",
       " (0.0, 0.0, True),\n",
       " (5.254075138311037e-06, 5.254075138311044e-06, True),\n",
       " (0.0, 0.0, True),\n",
       " (0.0, 0.0, True),\n",
       " (0.0, 0.0, True),\n",
       " (0.0, 0.0, True),\n",
       " (0.0, 0.0, True),\n",
       " (0.0, 0.0, True),\n",
       " (2.6270375691554905e-06, 2.627037569155522e-06, True)]"
      ]
     },
     "execution_count": 21,
     "metadata": {},
     "output_type": "execute_result"
    }
   ],
   "source": [
    "list(zip(densities,densities_0,abs(densities-densities_0)<0.0001))"
   ]
  },
  {
   "cell_type": "markdown",
   "metadata": {},
   "source": [
    "## Had do I \"add\" histograms\n",
    "\n",
    "What if we wanted to plot the $p_T$ distributions of all leptons? \n",
    "\n",
    "### \"Easy way\"\n",
    "Recall in Data 1401 we broke the process of making a histogram into two steps: calculating the histogram and drawing the histogram. One way to make a histogram of both \"l_1_pT\" and \"l_2_pT\" would be to compute two histograms, add them into one histogram combined, and then draw the histogram. Unfortunately, `matplotlib`'s histogram function does not separate the two steps, we cannot use it to sum the histograms. We can however combine the data that is fed into the histogram. For example:\n"
   ]
  },
  {
   "cell_type": "code",
   "execution_count": null,
   "metadata": {},
   "outputs": [],
   "source": [
    "lepton_pTs = df_sig[\"l_1_pT\"].tolist() + df_sig[\"l_2_pT\"].tolist()\n",
    "len(lepton_pTs)"
   ]
  },
  {
   "cell_type": "markdown",
   "metadata": {},
   "source": [
    "Note that we added two python lists. What would have happened if we added numpy arrays instead?"
   ]
  },
  {
   "cell_type": "code",
   "execution_count": null,
   "metadata": {},
   "outputs": [],
   "source": [
    "hist, bin_edges, _ =plt.hist(lepton_pTs,\n",
    "                             bins=100,histtype=\"step\", color=\"red\",label=\"signal\",density=True, stacked=True)"
   ]
  },
  {
   "cell_type": "markdown",
   "metadata": {},
   "source": [
    "Can you explain why the following isn't equivalent to what we just did and why it's not appropriate?"
   ]
  },
  {
   "cell_type": "code",
   "execution_count": null,
   "metadata": {},
   "outputs": [],
   "source": [
    "lepton_pTs_wrong = np.array(df_sig[\"l_1_pT\"].tolist()) + np.array(df_sig[\"l_2_pT\"].tolist())\n",
    "len(lepton_pTs_wrong.tolist())"
   ]
  },
  {
   "cell_type": "markdown",
   "metadata": {},
   "source": [
    "### \"Hard way\"\n",
    "Now lets do the same task by adding two computed histograms and then plotting. We'll use numpy to compute the histogram."
   ]
  },
  {
   "cell_type": "code",
   "execution_count": null,
   "metadata": {},
   "outputs": [],
   "source": [
    "c1,b1 = np.histogram(np.array(df_sig[\"l_1_pT\"]),bins=100)\n",
    "c2,b2 = np.histogram(np.array(df_sig[\"l_2_pT\"]),bins=b1)\n",
    "\n",
    "c= c1 + c2\n",
    "c"
   ]
  },
  {
   "cell_type": "markdown",
   "metadata": {},
   "source": [
    "To plot the histogram, we'll have to use the `matplotlib`'s bar step:"
   ]
  },
  {
   "cell_type": "code",
   "execution_count": null,
   "metadata": {},
   "outputs": [],
   "source": [
    "plt.step(b1[:-1],c)"
   ]
  },
  {
   "cell_type": "markdown",
   "metadata": {},
   "source": [
    "We may worry that the bins are not drawn in the right place. We are providing the left edge of each bin. Looking at [the documentation for step](https://matplotlib.org/3.1.1/api/_as_gen/matplotlib.pyplot.step.html), we see that it has an optional arguement `where` that defaults to `pre`, which is what we want.\n",
    "\n",
    "For fun, we could try to draw the histrogram with `bar`, but it's not great:"
   ]
  },
  {
   "cell_type": "code",
   "execution_count": null,
   "metadata": {},
   "outputs": [],
   "source": [
    "plt.bar(b1[:-1],\n",
    "        c,\n",
    "        align='edge',\n",
    "        color=\"red\",\n",
    "        fill=False,\n",
    "        width=b1[1]-b1[0]\n",
    "       )"
   ]
  },
  {
   "cell_type": "markdown",
   "metadata": {},
   "source": [
    "# Normalization\n",
    "\n",
    "The data we are using are simulated. When producing the simulation, we tell the simulation how many signal and background events to make. How much signal or background is in the data coming the accelerators is determined by nature. \n",
    "\n",
    "Lets see how many signal background events we have:"
   ]
  },
  {
   "cell_type": "code",
   "execution_count": null,
   "metadata": {},
   "outputs": [],
   "source": [
    "print(\"n_signal:\", df_sig.shape)\n",
    "print(\"n_backgroud:\" , df_bkg.shape)\n",
    "\n",
    "n_sig_sim= df_sig.shape[0]\n",
    "n_bkg_sim=  df_bkg.shape[1]"
   ]
  },
  {
   "cell_type": "markdown",
   "metadata": {},
   "source": [
    "The signal to background ratio in this simulated sample is no where close to the ratio we may expect in data. If SUSY was real, this many event candidates might correspond to years of data collection, while the background would be more like perhaps days. \n",
    "\n",
    "Let's say a computation has told us that in a years worth of data we would expect 10 signal and 100 background events. How do we create a histogram mimics what we would have seen in data? \n"
   ]
  },
  {
   "cell_type": "markdown",
   "metadata": {},
   "source": [
    "## Events\n",
    "\n",
    "A simple way would be to just take a subset of the available data:"
   ]
  },
  {
   "cell_type": "code",
   "execution_count": null,
   "metadata": {},
   "outputs": [],
   "source": [
    "c_s,b,_=plt.hist(df_sig[:10][\"M_TR_2\"],bins=20)"
   ]
  },
  {
   "cell_type": "code",
   "execution_count": null,
   "metadata": {},
   "outputs": [],
   "source": [
    "_=plt.hist(df_bkg[:100][\"M_TR_2\"],bins=b)"
   ]
  },
  {
   "cell_type": "code",
   "execution_count": null,
   "metadata": {},
   "outputs": [],
   "source": [
    "# Add them up\n",
    "_=plt.hist(df_sig[:10][\"M_TR_2\"].tolist()+df_bkg[:100][\"M_TR_2\"].tolist(),bins=b)"
   ]
  },
  {
   "cell_type": "markdown",
   "metadata": {},
   "source": [
    "## Error Bars\n",
    "\n",
    "We need error bars on counts."
   ]
  },
  {
   "cell_type": "code",
   "execution_count": null,
   "metadata": {},
   "outputs": [],
   "source": [
    "import math\n",
    "n_bkg_expected = 100\n",
    "n_sig_expected = 10\n",
    "\n",
    "data = df_sig[:n_sig_expected][\"M_TR_2\"].tolist()+df_bkg[:n_bkg_expected][\"M_TR_2\"].tolist()\n",
    "\n",
    "c , bin_edges= np.histogram(data,bins=20)\n",
    "bin_width = bin_edges[1]-bin_edges[0]\n",
    "bin_centers = 0.5*(bin_edges[1:]+bin_edges[:-1])\n",
    "error    = np.sqrt(c)\n",
    "\n",
    "plt.errorbar(bin_centers, c, yerr=error, marker=\"o\")\n",
    "plt.show()"
   ]
  },
  {
   "cell_type": "code",
   "execution_count": null,
   "metadata": {},
   "outputs": [],
   "source": [
    "\n",
    "n_bkg_expected = 1000\n",
    "n_sig_expected = 100\n",
    "\n",
    "data = df_sig[:n_sig_expected][\"M_TR_2\"].tolist()+df_bkg[:n_bkg_expected][\"M_TR_2\"].tolist()\n",
    "\n",
    "c , bin_edges= np.histogram(data,bins=20)\n",
    "bin_width = bin_edges[1]-bin_edges[0]\n",
    "bin_centers = 0.5*(bin_edges[1:]+bin_edges[:-1])\n",
    "error    = np.sqrt(c)\n",
    "\n",
    "plt.errorbar(bin_centers, c, yerr=error, marker=\"o\")\n",
    "plt.show()"
   ]
  },
  {
   "cell_type": "markdown",
   "metadata": {},
   "source": [
    "## Probability Distribution\n",
    "\n",
    "Now let's that the plot that we just made came from the accelerator. How could we visually tell of there is a hint of SUSY in the data? We saw earlier that the $M_{TR_2}$ distribution is significantly different for signal and backgroud. If we super impose the distributions on the data, it may help guide the eye.\n",
    "\n",
    "Here's what we will attempt to do:\n",
    "\n",
    "* Create high resolution histograms (large number of events and bins) of:\n",
    "    * Background only\n",
    "    * Signal only\n",
    "* Normalize the number the counts so they correspond to expected number of signal and background.\n",
    "* Create new histogram corresponding to signal + background hypothesis\n",
    "* Plot it all together."
   ]
  },
  {
   "cell_type": "code",
   "execution_count": null,
   "metadata": {},
   "outputs": [],
   "source": [
    "c_bkg_sim, sim_bin = np.histogram(df_bkg[\"M_TR_2\"],bins=100)\n",
    "plt.step(sim_bin[1:],c_bkg_sim)"
   ]
  },
  {
   "cell_type": "code",
   "execution_count": null,
   "metadata": {},
   "outputs": [],
   "source": [
    "c_sig_sim, sim_bin = np.histogram(df_sig[\"M_TR_2\"],bins=sim_bin)\n",
    "plt.step(sim_bin[1:],c_sig_sim)"
   ]
  },
  {
   "cell_type": "code",
   "execution_count": null,
   "metadata": {},
   "outputs": [],
   "source": [
    "bin_size_sim = sim_bin[1]-sim_bin[0]\n",
    "integral = sum(c_bkg_sim) * bin_size_sim\n",
    "c_bkg_sim_normalized = (n_bkg_expected / integral ) * c_bkg_sim\n",
    "plt.step(sim_bin[1:],c_bkg_sim_normalized)"
   ]
  },
  {
   "cell_type": "code",
   "execution_count": null,
   "metadata": {},
   "outputs": [],
   "source": [
    "integral = sum(c_sig_sim) * bin_size_sim\n",
    "c_sig_sim_normalized = (n_sig_expected / integral ) * c_sig_sim\n",
    "plt.step(sim_bin[1:],c_sig_sim_normalized)"
   ]
  },
  {
   "cell_type": "code",
   "execution_count": null,
   "metadata": {},
   "outputs": [],
   "source": [
    "sum(c_sig_sim_normalized) * bin_size_sim"
   ]
  },
  {
   "cell_type": "code",
   "execution_count": null,
   "metadata": {},
   "outputs": [],
   "source": [
    "plt.errorbar(bin_centers, c, yerr=error, marker=\"o\",label=\"data\")\n",
    "plt.yscale(\"log\")\n",
    "plt.step(sim_bin[1:],c_bkg_sim_normalized*bin_width,label=\"background\")\n",
    "plt.step(sim_bin[1:],(c_bkg_sim_normalized+c_sig_sim_normalized)*bin_width,label=\"background + signal\")\n",
    "plt.legend()\n",
    "plt.show()"
   ]
  },
  {
   "cell_type": "code",
   "execution_count": null,
   "metadata": {},
   "outputs": [],
   "source": []
  }
 ],
 "metadata": {
  "kernelspec": {
   "display_name": "Python 3",
   "language": "python",
   "name": "python3"
  },
  "language_info": {
   "codemirror_mode": {
    "name": "ipython",
    "version": 3
   },
   "file_extension": ".py",
   "mimetype": "text/x-python",
   "name": "python",
   "nbconvert_exporter": "python",
   "pygments_lexer": "ipython3",
   "version": "3.8.1"
  }
 },
 "nbformat": 4,
 "nbformat_minor": 2
}
