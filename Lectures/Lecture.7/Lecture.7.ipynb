{
 "cells": [
  {
   "cell_type": "markdown",
   "metadata": {},
   "source": [
    "# Lecture 7"
   ]
  },
  {
   "cell_type": "markdown",
   "metadata": {},
   "source": [
    "\n",
    "Some of the examples today are inspired by [Python Practice Book](https://anandology.com/python-practice-book/object_oriented_programming.html).\n",
    "\n"
   ]
  },
  {
   "cell_type": "markdown",
   "metadata": {},
   "source": [
    "## Rational Numbers\n",
    "\n",
    "Lets write a class that keeps fractions as fractions when doing computations:"
   ]
  },
  {
   "cell_type": "code",
   "execution_count": null,
   "metadata": {},
   "outputs": [],
   "source": [
    "class RationalNumber:\n",
    "    \"\"\"\n",
    "    Rational Numbers with support for arthmetic operations.\n",
    "\n",
    "        >>> a = RationalNumber(1, 2)\n",
    "        >>> b = RationalNumber(1, 3)\n",
    "        >>> a + b\n",
    "        5/6\n",
    "        >>> a - b\n",
    "        1/6\n",
    "        >>> a * b\n",
    "        1/6\n",
    "        >>> a/b\n",
    "        3/2\n",
    "    \"\"\"\n",
    "    def __init__(self, numerator, denominator=1):\n",
    "        self.n = numerator\n",
    "        self.d = denominator\n",
    "\n",
    "    def __add__(self, other):\n",
    "        if not isinstance(other, RationalNumber):\n",
    "            other = RationalNumber(other)\n",
    "\n",
    "        n = self.n * other.d + self.d * other.n\n",
    "        d = self.d * other.d\n",
    "        return RationalNumber(n, d)\n",
    "\n",
    "    def __sub__(self, other):\n",
    "        if not isinstance(other, RationalNumber):\n",
    "            other = RationalNumber(other)\n",
    "\n",
    "        n1, d1 = self.n, self.d\n",
    "        n2, d2 = other.n, other.d\n",
    "        return RationalNumber(n1*d2 - n2*d1, d1*d2)\n",
    "\n",
    "    def __mul__(self, other):\n",
    "        if not isinstance(other, RationalNumber):\n",
    "            other = RationalNumber(other)\n",
    "\n",
    "        n1, d1 = self.n, self.d\n",
    "        n2, d2 = other.n, other.d\n",
    "        return RationalNumber(n1*n2, d1*d2)\n",
    "\n",
    "    def __truediv__(self, other):\n",
    "        if not isinstance(other, RationalNumber):\n",
    "            other = RationalNumber(other)\n",
    "\n",
    "        n1, d1 = self.n, self.d\n",
    "        n2, d2 = other.n, other.d\n",
    "        return RationalNumber(n1*d2, d1*n2)\n",
    "\n",
    "    def __str__(self):\n",
    "        return \"%s/%s\" % (self.n, self.d)\n",
    "\n",
    "    __repr__ = __str__"
   ]
  },
  {
   "cell_type": "code",
   "execution_count": null,
   "metadata": {},
   "outputs": [],
   "source": [
    "RationalNumber(1,2)"
   ]
  },
  {
   "cell_type": "code",
   "execution_count": null,
   "metadata": {},
   "outputs": [],
   "source": [
    "print(RationalNumber(1,2) + RationalNumber(1,2))\n",
    "print(RationalNumber(1,2) - RationalNumber(1,2))\n",
    "print(RationalNumber(1,2) * RationalNumber(1,2))\n",
    "print(RationalNumber(1,2) / RationalNumber(1,2))"
   ]
  },
  {
   "cell_type": "markdown",
   "metadata": {},
   "source": [
    "# Particle Physics Example\n",
    "\n",
    "Let's try to do something more meaningful and introduce some particle physics basics. In relativistic mechanics, the Energy and Momentum of particles are different in every frame, but obey $m^2=E^2-\\vec{p}^2$ or $E^2=\\vec{p}^2$ for massless particles, where we set the speed of light $c=1$. It is therefore convenient to express the Energy and Momentum of a particle as a 4-vector, for example in Euclidean coordiates: $p= (E,p_{x},p_{y},p_{z}) = (E,\\vec{p})$.\n",
    "\n",
    "Energy and momentum are conserved when a particle decays into two other particles, for example a $Z$ boson to two electrons, $Z\\rightarrow e^+ e^-$, or a Higgs Boson to two photons, $H\\rightarrow \\gamma\\gamma$. In 4-vectors we can express conservations, for example in the Higgs decay, as $p_H = p_{\\gamma1}+p_{\\gamma2}$. In a two body decay, it's easy to fully solve for the momenta daughter particles in the rest frame of the parent:\n",
    "\n",
    "$$\n",
    "m_H = 125 GeV\\\\\n",
    "p_H = (m_{H},0,0,0)\n",
    "$$\n",
    "\n",
    "Momentum conservation tells us that $\\vec{p_{H}} = 0 = \\vec{p_{\\gamma1}} + \\vec{p_{\\gamma2}} \\Rightarrow \\vec{p_{\\gamma1}} = - \\vec{p_{\\gamma2}} = p_\\gamma$, i.e. the daughters travel in opposite directions. The 4-vector of the photons are\n",
    "\n",
    "$$\n",
    "E_H = m_H = E_{\\gamma1}+E_{\\gamma2} = |\\vec{p_{\\gamma1}}| + |\\vec{p_{\\gamma2}}|=2|p_\\gamma|\\\\\n",
    "\\Rightarrow p_{\\gamma1}= (m_H/2, \\vec{p_{\\gamma}})\\\\\n",
    "\\Rightarrow p_{\\gamma2}= (m_H/2, -\\vec{p_{\\gamma}})\n",
    "$$\n",
    "\n",
    "If we select that direction to be aligned with one of our axes ($z$ in this case), then we can write:\n",
    "$$\n",
    "p_{\\gamma1}= (m_H/2, 0,0, m_H/2)\\\\\n",
    "p_{\\gamma2}= (m_H/2, 0,0, -m_H/2).\n",
    "$$\n",
    "\n",
    "We can compute these 4-vectors in the case that the parent particle is not at rest by relavistic boosting. Boosting a 4-vector refers to computation necessary to take a vector in a frame of reference and compute the components of that vector in another (boosted) frame of reference."
   ]
  },
  {
   "cell_type": "markdown",
   "metadata": {},
   "source": [
    "We have the formulae... now lets numerically compute what vectors in a $H\\rightarrow \\gamma \\gamma$ will be. \n",
    "\n",
    "We will begin by representing 4-vectors as python lists. For example the first photon in the rest frame can be written as:"
   ]
  },
  {
   "cell_type": "code",
   "execution_count": null,
   "metadata": {},
   "outputs": [],
   "source": [
    "m_H= 125.\n",
    "p_g1= [m_H/2,0,0,m_H/2]\n",
    "print(p_g1)"
   ]
  },
  {
   "cell_type": "markdown",
   "metadata": {},
   "source": [
    "To get the second photon, lets write a function that negates 4-vectors:"
   ]
  },
  {
   "cell_type": "code",
   "execution_count": null,
   "metadata": {},
   "outputs": [],
   "source": [
    "def neg_4v(p):\n",
    "    return [p[0], -p[1],  -p[2] , -p[3]]\n",
    "\n",
    "p_g2=neg_4v(p_g1)\n",
    "print(p_g2)"
   ]
  },
  {
   "cell_type": "markdown",
   "metadata": {},
   "source": [
    "Other useful functions:"
   ]
  },
  {
   "cell_type": "code",
   "execution_count": null,
   "metadata": {},
   "outputs": [],
   "source": [
    "def add_v4(p1,p2):\n",
    "    return [p1[0]+p2[0], p1[1]+p2[1],  p1[2]+p2[2] , p1[3]+p2[3]]\n",
    "\n",
    "def sub_v4(p1,p2):\n",
    "    return add_v4(p1,neg_4v(p2))\n",
    "\n",
    "print (\"Sum:\", add_v4(p_g1,p_g2))\n",
    "print (\"Difference:\", sub_v4(p_g1,p_g2))"
   ]
  },
  {
   "cell_type": "markdown",
   "metadata": {},
   "source": [
    "We will need to also take the dot product of vectors and compute the mass of vectors:"
   ]
  },
  {
   "cell_type": "code",
   "execution_count": null,
   "metadata": {},
   "outputs": [],
   "source": [
    "import math\n",
    "\n",
    "def dot_v4(p1,p2):\n",
    "    return math.sqrt(sum([p1[0]*p2[0], -p1[1]*p2[1],  -p1[2]*p2[2] , -p1[3]*p2[3]]))\n",
    "\n",
    "def mass_v4(p):\n",
    "    return dot_v4(p,p)\n",
    "\n",
    "# Quick test:\n",
    "print (\"Dot:\", dot_v4(p_g1,p_g2))\n",
    "print (\"Gamma Mass:\", mass_v4(p_g1))"
   ]
  },
  {
   "cell_type": "markdown",
   "metadata": {},
   "source": [
    "Now lets take the 2 photon 4-vectors and check that we can get the Higgs 4-vector by adding:"
   ]
  },
  {
   "cell_type": "code",
   "execution_count": null,
   "metadata": {},
   "outputs": [],
   "source": [
    "print (\"Higgs Mass:\", mass_v4(add_v4(p_g1,p_g2)))"
   ]
  },
  {
   "cell_type": "markdown",
   "metadata": {},
   "source": [
    "There are lots of ways to write the same thing, for example:"
   ]
  },
  {
   "cell_type": "code",
   "execution_count": null,
   "metadata": {},
   "outputs": [],
   "source": [
    "def add_v4_1(p1,p2):\n",
    "    out=list()\n",
    "    for i in range(4):\n",
    "        out.append(p1[i]+p2[i])\n",
    "    return out\n",
    "\n",
    "def add_v4_2(p1,p2):\n",
    "    return map(lambda x: x[0]+x[1],zip(p1,p2))\n",
    "\n",
    "def add_v4_3(p1,p2):\n",
    "    return [sum(x) for x in zip(p1,p2)]\n",
    "\n",
    "print (\"zip:\", list(zip(p_g1,p_g2)))\n",
    "print (\"Sum:\", add_v4_3(p_g1,p_g2))"
   ]
  },
  {
   "cell_type": "markdown",
   "metadata": {},
   "source": [
    "Next lets implement boosting... If you take Modern Physics (PHYS 3313) Special Relativity will be the first part of the course and you will learn boosting formulae. We don't have to go into the details here. The process of boosting involves computing the appropriate boost matrix and performing a matrix-vector multiplication:"
   ]
  },
  {
   "cell_type": "code",
   "execution_count": null,
   "metadata": {},
   "outputs": [],
   "source": [
    "def boost_matrix(beta_in):\n",
    "    Lambda= [[0,0,0,0],\n",
    "             [0,0,0,0],\n",
    "             [0,0,0,0],\n",
    "             [0,0,0,0]]\n",
    "    \n",
    "    beta=[0]+beta_in\n",
    "\n",
    "    beta2=sum(x**2 for x in beta)\n",
    "    gamma=1./math.sqrt(1.-beta2)\n",
    "    \n",
    "    for i in range(4):\n",
    "        for j in range(4):\n",
    "            if j==0:\n",
    "                Lambda[i][0]=-gamma*beta[i]\n",
    "            elif i==0:\n",
    "                Lambda[0][j]=-gamma*beta[j]\n",
    "            else:\n",
    "                Lambda[i][j]= (gamma-1)*beta[i]*beta[j]/beta2 + float(i==j)\n",
    "\n",
    "    Lambda[0][0]=gamma\n",
    "\n",
    "    return Lambda\n",
    "                \n",
    "def boost(p,beta):\n",
    "    Lambda=boost_matrix(beta)\n",
    "    out=4*[0.]\n",
    "    \n",
    "    # Lorentz contraction\n",
    "    for j in range(4):\n",
    "        out[j]=sum(map(lambda x: x[0]*x[1],zip(p,Lambda[j])))\n",
    "    return out"
   ]
  },
  {
   "cell_type": "markdown",
   "metadata": {},
   "source": [
    "So now we can implement a 2-body decay, where given the 4-vector of any particle, we can compute the 4-vectors of 2 daughter particles if it decays.\n",
    "\n",
    "Steps are:\n",
    "* Compute the decay in lab frame of the parent particle where things are easy.\n",
    "    * Get the mass of the parent particles.\n",
    "    * Write down the 4-vectors of the daughters based on forumlae above.\n",
    "* Compute the $\\beta$ (velocity of the original parent particle divided by speed of light).\n",
    "* Use $\\beta$ to boost the lab daughter 4-vectors to the frame of the moving parent particle."
   ]
  },
  {
   "cell_type": "code",
   "execution_count": null,
   "metadata": {},
   "outputs": [],
   "source": [
    "def decay(p):\n",
    "    m=mass_v4(p)\n",
    "    p1=[m/2.,0.,0.,m/2.]\n",
    "    p2=[m/2.,0.,0.,-m/2.]\n",
    "    # We should now rotate by 2 arbitrary angles...\n",
    "    beta=[p[1]/p[0],p[2]/p[0],p[3]/p[0]]\n",
    "    \n",
    "    p1b=boost(p1,beta)\n",
    "    p2b=boost(p2,beta)\n",
    "\n",
    "    return p1b,p2b"
   ]
  },
  {
   "cell_type": "markdown",
   "metadata": {},
   "source": [
    "Now lets put it all together:"
   ]
  },
  {
   "cell_type": "code",
   "execution_count": null,
   "metadata": {},
   "outputs": [],
   "source": [
    "# Start with a Higgs at rest\n",
    "p_H=[m_H,0.,0.,0.]\n",
    "\n",
    "# Now boost it (along y for example)\n",
    "p_Hb=boost(p_H,[0.,.5,0.])\n",
    "print (\"Boosted Higgs:\", p_Hb)\n",
    "print (\"Mass of Boosted Higgs:\", mass_v4(p_Hb))\n",
    "\n",
    "# Decay the boosted Higgs\n",
    "p1,p2=decay(p_Hb)\n",
    "\n",
    "print(\"p1:\",p1)\n",
    "print(\"p2:\",p2)\n",
    "\n",
    "# Make sure the decay products add back to the Higgs\n",
    "print (\"Higgs from daughters:\", add_v4(p1,p2))\n",
    "print (\"Higgs mass from daughters:\", mass_v4(add_v4(p1,p2)))"
   ]
  },
  {
   "cell_type": "markdown",
   "metadata": {},
   "source": [
    "### Object Oriented Programming\n",
    "\n",
    "Lets write a 4-vector class to do the same thing:"
   ]
  },
  {
   "cell_type": "code",
   "execution_count": null,
   "metadata": {},
   "outputs": [],
   "source": [
    "class four_vector(object):\n",
    "    def __init__(self, p=None):\n",
    "        if p:\n",
    "            self.v=p\n",
    "        else:\n",
    "            self.v=[0.,0.,0.,0.]\n",
    "\n",
    "    def setval(self,l):\n",
    "        self.v=l\n",
    "            \n",
    "    def __add__(self,other):\n",
    "        return four_vector([sum(x) for x in zip(self.v,other)])\n",
    "    \n",
    "    def neg(self,p):\n",
    "        return four_vector([p[0], -p[1],  -p[2] , -p[3]])\n",
    "\n",
    "    def __sub__(self,other):\n",
    "        return self.__add__(self.v,self.neg(other))\n",
    "  \n",
    "    def __mul__(self,other):\n",
    "        return math.sqrt(sum([self.v[0]*other[0], \n",
    "                              -self.v[1]*other[1],\n",
    "                              -self.v[2]*other[2],\n",
    "                              -self.v[3]*other[3]]))\n",
    "\n",
    "    def boost(self,beta):\n",
    "        Lambda=boost_matrix(beta)\n",
    "        out=4*[0.]\n",
    "        for j in range(4):\n",
    "            out[j]=sum(map(lambda x: x[0]*x[1],zip(self.v,Lambda[j])))\n",
    "        return four_vector(out)\n",
    "\n",
    "    def mass(self):\n",
    "        return self.__mul__(self.v)\n",
    "\n",
    "    def __getitem__(self,i):\n",
    "        return self.v[i]\n",
    "\n",
    "    \n",
    "    def __str__(self):\n",
    "        return \"({0}, {1}, {2}, {3})\".format(self.v[0],self.v[1],self.v[2],self.v[3])\n",
    "      "
   ]
  },
  {
   "cell_type": "code",
   "execution_count": null,
   "metadata": {},
   "outputs": [],
   "source": [
    "x=four_vector()\n",
    "print(x)"
   ]
  },
  {
   "cell_type": "code",
   "execution_count": null,
   "metadata": {},
   "outputs": [],
   "source": [
    "y=four_vector([1,2,3,4])\n",
    "print(y)"
   ]
  },
  {
   "cell_type": "code",
   "execution_count": null,
   "metadata": {},
   "outputs": [],
   "source": [
    "def decay(p):\n",
    "    m=p.mass()\n",
    "    p1=four_vector([m/2.,0.,0.,m/2.])\n",
    "    p2=four_vector([m/2.,0.,0.,-m/2.])\n",
    "    # We should now rotate by 2 arbitrary angles...\n",
    "    beta=[p[1]/p[0],p[2]/p[0],p[3]/p[0]]\n",
    "    \n",
    "    p1b=p1.boost(beta)\n",
    "    p2b=p2.boost(beta)\n",
    "\n",
    "    return p1b,p2b"
   ]
  },
  {
   "cell_type": "code",
   "execution_count": null,
   "metadata": {},
   "outputs": [],
   "source": [
    "# Start with a Higgs at rest\n",
    "p_H=four_vector([m_H,0.,0.,0.])\n",
    "print (\"Initial Higgs:\", p_H)\n",
    "\n",
    "# Now boost it (along y for example)\n",
    "p_Hb=p_H.boost([0.,.5,0.])\n",
    "print (\"Boosted Higgs:\", p_Hb)\n",
    "print (\"Mass of Boosted Higgs:\", p_Hb.mass())\n",
    "\n",
    "# Decay the boosted Higgs\n",
    "p1,p2=decay(p_Hb)\n",
    "\n",
    "# Make sure the decay products add back to the Higgs\n",
    "print (\"Higgs from daughters:\", p1+p2)\n",
    "print (\"Higgs mass from daughters:\", (p1+p2).mass())"
   ]
  },
  {
   "cell_type": "markdown",
   "metadata": {},
   "source": [
    "Usually in an experiment, you see the decay particles (in this case 2 photons) and infer the presence of the parent particle by adding their 4 vectors and seeing that the mass is consistent with the mass of the hypothetical parent particle. \n",
    "\n",
    "We can take an extra step and create a new class to represent the parent particle composed of daughter particles:"
   ]
  },
  {
   "cell_type": "code",
   "execution_count": null,
   "metadata": {},
   "outputs": [],
   "source": [
    "class composite(four_vector):\n",
    "    def __init__(self,daughters):\n",
    "        super(composite, self).__init__()\n",
    "        self.daughters=daughters\n",
    "\n",
    "        tmp=four_vector()\n",
    "        for d in self.daughters:\n",
    "            tmp=tmp+d\n",
    "          \n",
    "        self.setval(tmp.v)"
   ]
  },
  {
   "cell_type": "code",
   "execution_count": null,
   "metadata": {},
   "outputs": [],
   "source": [
    "H_reco=composite([p1,p2])\n",
    "print (\"Composite Higgs:\", H_reco)\n",
    "print (\"Mass:\", H_reco.mass())"
   ]
  },
  {
   "cell_type": "markdown",
   "metadata": {},
   "source": [
    "### Generating Events\n",
    "\n",
    "Simulation is a key part of developing particle physics experiments and understanding output. For example, if you want to build an experiment to study the Higgs, you'll have to think about what would the photons coming from the Higgs decay looks like. Since every Higgs created will have different speed and direction, the photon energy and direction angles will all be distributions. In order to get a sense of what those distributions look like we can simulate the process by \"generating\" hypothetical Higgses, decaying them, and looking at the resulting photon."
   ]
  },
  {
   "cell_type": "markdown",
   "metadata": {},
   "source": [
    "#### Generating a Normal Distribution: Box-Muller transform\n",
    "\n",
    "The Box-Muller transform generates 2 random variables $Z_0$ and $Z_1$ that are Normal distributed from two uniformly distributed random variables $U_1$ and $U_2$ using the relation:\n",
    "\n",
    "$$\n",
    "Z_0 = \\sqrt{-2 \\log{U_1}}\\cos{(2\\pi U_2)}\\\\\n",
    "Z_1 = \\sqrt{-2 \\log{U_1}}\\sin{(2\\pi U_2)}\n",
    "$$"
   ]
  },
  {
   "cell_type": "code",
   "execution_count": null,
   "metadata": {},
   "outputs": [],
   "source": [
    "import math\n",
    "import random\n",
    "\n",
    "def generate_normal(N,m=0,s=1):\n",
    "    out = list() \n",
    "    \n",
    "    while len(out)<N:\n",
    "        U1=random.random()\n",
    "        U2=random.random()\n",
    "    \n",
    "        out.append(s*math.sqrt(-2*math.log(U1))*math.cos(2*math.pi*U2)+m)\n",
    "        out.append(s*math.sqrt(-2*math.log(U1))*math.sin(2*math.pi*U2)+m)\n",
    "\n",
    "    return out[:N]"
   ]
  },
  {
   "cell_type": "code",
   "execution_count": null,
   "metadata": {},
   "outputs": [],
   "source": [
    "%matplotlib inline\n",
    "import matplotlib.pyplot as plt"
   ]
  },
  {
   "cell_type": "code",
   "execution_count": null,
   "metadata": {
    "scrolled": true
   },
   "outputs": [],
   "source": [
    "_=plt.hist(generate_normal(1000,10,5))"
   ]
  },
  {
   "cell_type": "code",
   "execution_count": null,
   "metadata": {},
   "outputs": [],
   "source": [
    "# Same thing with numpy (for reference)\n",
    "import numpy as np\n",
    "_=plt.hist(np.random.normal(loc=10., scale=5.0, size=1000))"
   ]
  },
  {
   "cell_type": "code",
   "execution_count": null,
   "metadata": {},
   "outputs": [],
   "source": [
    "Events=[]\n",
    "\n",
    "for i in range(1,11):\n",
    "    p_H=four_vector([m_H,0.,0.,0.])\n",
    "    my_boost= generate_normal(1000,10,5)\n",
    "    p_Hb=p_H.boost([0.,my_boost,0.])\n",
    "    \n",
    "    p1,p2=decay(p_Hb)\n",
    "    \n",
    "    Event= {\"Higgs\":composite([p1,p2]),\n",
    "           \"Boost\":my_boost}\n",
    "    \n",
    "    Events.append(Event)\n",
    "    \n",
    "# Make sure the decay products add back to the Higgs\n",
    "for i,Event in enumerate(Events):\n",
    "    print (\"Event:\",i)\n",
    "    print (\"Higgs 4-vector:\",Event[\"Higgs\"])\n",
    "    print (\"Boost:\",Event[\"Boost\"])\n"
   ]
  },
  {
   "cell_type": "markdown",
   "metadata": {},
   "source": [
    "## Drawing Program Example\n",
    "\n",
    "### Canvas"
   ]
  },
  {
   "cell_type": "code",
   "execution_count": null,
   "metadata": {},
   "outputs": [],
   "source": [
    "class Canvas:\n",
    "    def __init__(self, width, height):\n",
    "        self.width = width\n",
    "        self.height = height\n",
    "        self.data = [[' '] * width for i in range(height)]\n",
    "\n",
    "    def set_pixel(self, row, col, char='*'):\n",
    "        self.data[row][col] = char\n",
    "\n",
    "    def get_pixel(self, row, col):\n",
    "        return self.data[row][col]\n",
    "    \n",
    "    def v_line(self, x, y, w, **kargs):\n",
    "        for i in range(x,x+w):\n",
    "            self.set_pixel(i,y, **kargs)\n",
    "\n",
    "    def h_line(self, x, y, h, **kargs):\n",
    "        for i in range(y,y+h):\n",
    "            self.set_pixel(x,i, **kargs)\n",
    "            \n",
    "    def line(self, x1, y1, x2, y2, **kargs):\n",
    "        slope = (y2-y1) / (x2-x1)\n",
    "        for y in range(y1,y2):\n",
    "            x= int(slope * y)\n",
    "            self.set_pixel(x,y, **kargs)\n",
    "            \n",
    "    def display(self):\n",
    "        print(\"\\n\".join([\"\".join(row) for row in self.data]))"
   ]
  },
  {
   "cell_type": "code",
   "execution_count": null,
   "metadata": {},
   "outputs": [],
   "source": [
    "c1=Canvas(40,40)\n",
    "c1.v_line(1,1,5)\n",
    "c1.h_line(3,3,4)\n",
    "c1.line(4,5,30,20)\n",
    "c1.display()"
   ]
  },
  {
   "cell_type": "code",
   "execution_count": null,
   "metadata": {
    "scrolled": true
   },
   "outputs": [],
   "source": [
    "c1.display()"
   ]
  },
  {
   "cell_type": "markdown",
   "metadata": {},
   "source": [
    "### Shapes"
   ]
  },
  {
   "cell_type": "code",
   "execution_count": null,
   "metadata": {},
   "outputs": [],
   "source": [
    "class Shape:\n",
    "    def __init__(self, name=\"\", **kwargs):\n",
    "        self.name=name\n",
    "        self.kwargs=kwargs\n",
    "    \n",
    "    def paint(self, canvas): pass\n",
    "\n",
    "class Rectangle(Shape):\n",
    "    def __init__(self, x, y, w, h, **kwargs):\n",
    "        Shape.__init__(self, **kwargs)\n",
    "        self.x = x\n",
    "        self.y = y\n",
    "        self.w = w\n",
    "        self.h = h\n",
    "\n",
    "    def paint(self, canvas):\n",
    "        canvas.v_line(self.x, self.y, self.w, **self.kwargs)\n",
    "        canvas.v_line(self.x, self.y + self.h, self.w, **self.kwargs)\n",
    "        canvas.h_line(self.x, self.y, self.h, **self.kwargs)\n",
    "        canvas.h_line(self.x + self.w, self.y, self.h, **self.kwargs)\n",
    "\n",
    "class Square(Rectangle):\n",
    "    def __init__(self, x, y, size, **kwargs):\n",
    "        Rectangle.__init__(self, x, y, size, size, **kwargs)\n",
    "\n",
    "class Line(Shape):\n",
    "    def __init__(self, x1, y1, x2, y2,  **kwargs):\n",
    "        Shape.__init__(self, **kwargs)\n",
    "        self.x1=x1\n",
    "        self.y1=y1\n",
    "        self.x2=x2\n",
    "        self.y2=y2\n",
    "        \n",
    "    def paint(self, canvas):\n",
    "        canvas.line(self.x1,self.y1,self.x2,self.y2)\n",
    "        \n",
    "class CompoundShape(Shape):\n",
    "    def __init__(self, shapes):\n",
    "        self.shapes = shapes\n",
    "\n",
    "    def paint(self, canvas):\n",
    "        for s in self.shapes:\n",
    "            s.paint(canvas)"
   ]
  },
  {
   "cell_type": "code",
   "execution_count": null,
   "metadata": {},
   "outputs": [],
   "source": [
    "c1=Canvas(50,40)\n",
    "s1=Square(5,5,20,char=\"^\")\n",
    "s1.paint(c1)\n",
    "l1=Line(2,2,13,19)\n",
    "l1.paint(c1)"
   ]
  },
  {
   "cell_type": "code",
   "execution_count": null,
   "metadata": {
    "scrolled": true
   },
   "outputs": [],
   "source": [
    "c1.display()"
   ]
  },
  {
   "cell_type": "code",
   "execution_count": null,
   "metadata": {},
   "outputs": [],
   "source": [
    "c1=Canvas(50,40)\n",
    "s1=CompoundShape([Square(5,5,20,char=\"^\"),\n",
    "                  Line(2,2,13,19)])\n",
    "s1.paint(c1)"
   ]
  },
  {
   "cell_type": "code",
   "execution_count": null,
   "metadata": {
    "scrolled": true
   },
   "outputs": [],
   "source": [
    "c1.display()"
   ]
  },
  {
   "cell_type": "markdown",
   "metadata": {},
   "source": [
    "### Drawing"
   ]
  },
  {
   "cell_type": "code",
   "execution_count": null,
   "metadata": {},
   "outputs": [],
   "source": [
    "class RasterDrawing:\n",
    "    def __init__(self):\n",
    "        self.shapes=dict()\n",
    "        self.shape_names=list()\n",
    "        \n",
    "    def add_shape(self,shape):\n",
    "        if shape.name == \"\":\n",
    "            shape.name = self.assign_name()\n",
    "        \n",
    "        self.shapes[shape.name]=shape\n",
    "        self.shape_names.append(shape.name)\n",
    "        \n",
    "    def paint(self,canvas):\n",
    "        for shape_name in self.shape_names:\n",
    "            self.shapes[shape_name].paint(canvas)\n",
    "            \n",
    "    def assign_name(self):\n",
    "        name_base=\"shape\"\n",
    "        name = name_base+\"_0\"\n",
    "        \n",
    "        i=1\n",
    "        while name in self.shapes:\n",
    "            name = name_base+\"_\"+str(i)\n",
    "            \n",
    "        return name\n",
    "            \n",
    "        "
   ]
  },
  {
   "cell_type": "code",
   "execution_count": null,
   "metadata": {
    "scrolled": true
   },
   "outputs": [],
   "source": [
    "c1=Canvas(50,40)\n",
    "rd=RasterDrawing()\n",
    "\n",
    "rd.add_shape(Square(5,5,20,char=\"^\"))\n",
    "rd.add_shape(Line(2,2,13,19))\n",
    "\n",
    "rd.paint(c1)\n",
    "\n",
    "c1.display()"
   ]
  },
  {
   "cell_type": "code",
   "execution_count": null,
   "metadata": {
    "scrolled": true
   },
   "outputs": [],
   "source": [
    "rd.shapes[\"shape_0\"].w=5\n",
    "c1.display()"
   ]
  },
  {
   "cell_type": "code",
   "execution_count": null,
   "metadata": {
    "scrolled": true
   },
   "outputs": [],
   "source": [
    "c2=Canvas(40,40)\n",
    "rd.paint(c2)\n",
    "c2.display()"
   ]
  }
 ],
 "metadata": {
  "kernelspec": {
   "display_name": "Python 3",
   "language": "python",
   "name": "python3"
  },
  "language_info": {
   "codemirror_mode": {
    "name": "ipython",
    "version": 3
   },
   "file_extension": ".py",
   "mimetype": "text/x-python",
   "name": "python",
   "nbconvert_exporter": "python",
   "pygments_lexer": "ipython3",
   "version": "3.8.1"
  }
 },
 "nbformat": 4,
 "nbformat_minor": 2
}
