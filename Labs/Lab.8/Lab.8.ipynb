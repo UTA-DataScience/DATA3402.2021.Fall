{
 "cells": [
  {
   "cell_type": "markdown",
   "metadata": {},
   "source": [
    "# Lab 8\n",
    "\n",
    "\n",
    "1. By Friday (December 3rd) Select 3 examples from [Keras Examples](https://keras.io/examples/).\n",
    "\n",
    "2. On Friday, we will choose one of the three for you to follow. \n",
    "\n",
    "3. Reproduce the results of the example by December 15.\n",
    "\n",
    "4. 10 min presentation on December 15 (11-1:30) during our final time-slot. Details provided on Friday December 3rd.\n"
   ]
  },
  {
   "cell_type": "markdown",
   "metadata": {},
   "source": [
    "## Presentation\n",
    "\n",
    "* Identify, find, and read the original work that the Keras example is based on\n",
    "    * Context: \n",
    "        * When was the work done?\n",
    "        * What was the motivation of the work?\n",
    "        * How did it compare to previous work at the time? What was different/new?\n",
    "        * What was the conclusion of the paper.\n",
    "    * Note that the paper and Keras example may use different datasets, procedures, etc. If so, specify how example and paper are different in the items below.\n",
    "    * Problem formulation:\n",
    "        * Input/output: e.g. Images -> 10 Class Labels\n",
    "        * Dataset: \n",
    "            * Source\n",
    "            * Contents\n",
    "            * Train/Test/Validation Breakdown\n",
    "            * Size\n",
    "            * Any pre-processing?\n",
    "        * Training:\n",
    "            * Loss?\n",
    "            * Optimizer?\n",
    "            * How do they determine when to stop training.\n",
    "        * Metrics:\n",
    "            * What are the metrics used to assess and compare performance? \n",
    "    * Keras Example:\n",
    "        * How is the same and different from paper?\n",
    "        * Where did you attempt to run the example? (Resources required, etc).\n",
    "        * How close did you get to reproducing the results of the paper?\n",
    "            * How long did you train?\n",
    "            * If you couldn't train long enough explain why and estimate how long it would take given resources you have. \n",
    "            * If you had technical issues, describe the issues and how you (attempted?) to  deal with them.\n",
    "            \n",
    "        "
   ]
  },
  {
   "cell_type": "code",
   "execution_count": null,
   "metadata": {},
   "outputs": [],
   "source": []
  }
 ],
 "metadata": {
  "kernelspec": {
   "display_name": "Python 3",
   "language": "python",
   "name": "python3"
  },
  "language_info": {
   "codemirror_mode": {
    "name": "ipython",
    "version": 3
   },
   "file_extension": ".py",
   "mimetype": "text/x-python",
   "name": "python",
   "nbconvert_exporter": "python",
   "pygments_lexer": "ipython3",
   "version": "3.8.1"
  }
 },
 "nbformat": 4,
 "nbformat_minor": 4
}
